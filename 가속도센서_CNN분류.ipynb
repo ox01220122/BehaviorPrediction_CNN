{
  "cells": [
    {
      "cell_type": "code",
      "source": [
        "from google.colab import drive\n",
        "drive.mount('/content/drive')"
      ],
      "metadata": {
        "colab": {
          "base_uri": "https://localhost:8080/"
        },
        "id": "i-VXIDpgwXA8",
        "outputId": "6269f448-4bb9-4717-ae01-45ba92d32476"
      },
      "execution_count": null,
      "outputs": [
        {
          "output_type": "stream",
          "name": "stdout",
          "text": [
            "Mounted at /content/drive\n"
          ]
        }
      ]
    },
    {
      "cell_type": "code",
      "execution_count": null,
      "metadata": {
        "colab": {
          "base_uri": "https://localhost:8080/"
        },
        "id": "Znriq6jJwSDm",
        "outputId": "b602fdc3-ff01-4f32-989f-a7e5d86c3af7"
      },
      "outputs": [
        {
          "output_type": "stream",
          "name": "stdout",
          "text": [
            "2.9.2\n"
          ]
        }
      ],
      "source": [
        "import tensorflow as tf\n",
        "from tensorflow.keras import Sequential\n",
        "from tensorflow.keras.layers import Flatten, Dense, Dropout, BatchNormalization\n",
        "from tensorflow.keras.layers import Conv2D, MaxPool2D\n",
        "from tensorflow.keras.optimizers import Adam\n",
        "print(tf.__version__)"
      ]
    },
    {
      "cell_type": "code",
      "execution_count": null,
      "metadata": {
        "id": "gCLh7pi8wSDo"
      },
      "outputs": [],
      "source": [
        "import pandas as pd\n",
        "import numpy as np\n",
        "import matplotlib.pyplot as plt\n",
        "from sklearn.model_selection import train_test_split\n",
        "from sklearn.preprocessing import StandardScaler, LabelEncoder"
      ]
    },
    {
      "cell_type": "code",
      "execution_count": null,
      "metadata": {
        "colab": {
          "base_uri": "https://localhost:8080/",
          "height": 424
        },
        "id": "nZDGFNY1wSDp",
        "outputId": "ac0295c4-ac20-4102-fa4e-e017603d787f"
      },
      "outputs": [
        {
          "output_type": "execute_result",
          "data": {
            "text/plain": [
              "             time       gFx       gFy       gFz  gFTotal\n",
              "0        0.007771  0.061325 -0.789642 -0.600159    0.994\n",
              "1        0.011567  0.022949 -0.801163 -0.586563    0.993\n",
              "2        0.021336  0.003510 -0.800568 -0.617966    1.011\n",
              "3        0.033118 -0.013702 -0.798370 -0.611191    1.006\n",
              "4        0.041466 -0.025558 -0.789948 -0.612442    1.000\n",
              "...           ...       ...       ...       ...      ...\n",
              "37220  370.982771  0.190353 -0.687744 -0.361053    0.800\n",
              "37221  370.986505  0.204483 -0.696762 -0.368881    0.814\n",
              "37222  370.996407  0.215622 -0.703812 -0.368393    0.823\n",
              "37223  371.008568  0.212463 -0.709045 -0.360504    0.823\n",
              "37224  371.017102  0.195648 -0.715988 -0.329697    0.812\n",
              "\n",
              "[37225 rows x 5 columns]"
            ],
            "text/html": [
              "\n",
              "  <div id=\"df-49d94370-a6a1-4a3d-935f-af4819da526c\">\n",
              "    <div class=\"colab-df-container\">\n",
              "      <div>\n",
              "<style scoped>\n",
              "    .dataframe tbody tr th:only-of-type {\n",
              "        vertical-align: middle;\n",
              "    }\n",
              "\n",
              "    .dataframe tbody tr th {\n",
              "        vertical-align: top;\n",
              "    }\n",
              "\n",
              "    .dataframe thead th {\n",
              "        text-align: right;\n",
              "    }\n",
              "</style>\n",
              "<table border=\"1\" class=\"dataframe\">\n",
              "  <thead>\n",
              "    <tr style=\"text-align: right;\">\n",
              "      <th></th>\n",
              "      <th>time</th>\n",
              "      <th>gFx</th>\n",
              "      <th>gFy</th>\n",
              "      <th>gFz</th>\n",
              "      <th>gFTotal</th>\n",
              "    </tr>\n",
              "  </thead>\n",
              "  <tbody>\n",
              "    <tr>\n",
              "      <th>0</th>\n",
              "      <td>0.007771</td>\n",
              "      <td>0.061325</td>\n",
              "      <td>-0.789642</td>\n",
              "      <td>-0.600159</td>\n",
              "      <td>0.994</td>\n",
              "    </tr>\n",
              "    <tr>\n",
              "      <th>1</th>\n",
              "      <td>0.011567</td>\n",
              "      <td>0.022949</td>\n",
              "      <td>-0.801163</td>\n",
              "      <td>-0.586563</td>\n",
              "      <td>0.993</td>\n",
              "    </tr>\n",
              "    <tr>\n",
              "      <th>2</th>\n",
              "      <td>0.021336</td>\n",
              "      <td>0.003510</td>\n",
              "      <td>-0.800568</td>\n",
              "      <td>-0.617966</td>\n",
              "      <td>1.011</td>\n",
              "    </tr>\n",
              "    <tr>\n",
              "      <th>3</th>\n",
              "      <td>0.033118</td>\n",
              "      <td>-0.013702</td>\n",
              "      <td>-0.798370</td>\n",
              "      <td>-0.611191</td>\n",
              "      <td>1.006</td>\n",
              "    </tr>\n",
              "    <tr>\n",
              "      <th>4</th>\n",
              "      <td>0.041466</td>\n",
              "      <td>-0.025558</td>\n",
              "      <td>-0.789948</td>\n",
              "      <td>-0.612442</td>\n",
              "      <td>1.000</td>\n",
              "    </tr>\n",
              "    <tr>\n",
              "      <th>...</th>\n",
              "      <td>...</td>\n",
              "      <td>...</td>\n",
              "      <td>...</td>\n",
              "      <td>...</td>\n",
              "      <td>...</td>\n",
              "    </tr>\n",
              "    <tr>\n",
              "      <th>37220</th>\n",
              "      <td>370.982771</td>\n",
              "      <td>0.190353</td>\n",
              "      <td>-0.687744</td>\n",
              "      <td>-0.361053</td>\n",
              "      <td>0.800</td>\n",
              "    </tr>\n",
              "    <tr>\n",
              "      <th>37221</th>\n",
              "      <td>370.986505</td>\n",
              "      <td>0.204483</td>\n",
              "      <td>-0.696762</td>\n",
              "      <td>-0.368881</td>\n",
              "      <td>0.814</td>\n",
              "    </tr>\n",
              "    <tr>\n",
              "      <th>37222</th>\n",
              "      <td>370.996407</td>\n",
              "      <td>0.215622</td>\n",
              "      <td>-0.703812</td>\n",
              "      <td>-0.368393</td>\n",
              "      <td>0.823</td>\n",
              "    </tr>\n",
              "    <tr>\n",
              "      <th>37223</th>\n",
              "      <td>371.008568</td>\n",
              "      <td>0.212463</td>\n",
              "      <td>-0.709045</td>\n",
              "      <td>-0.360504</td>\n",
              "      <td>0.823</td>\n",
              "    </tr>\n",
              "    <tr>\n",
              "      <th>37224</th>\n",
              "      <td>371.017102</td>\n",
              "      <td>0.195648</td>\n",
              "      <td>-0.715988</td>\n",
              "      <td>-0.329697</td>\n",
              "      <td>0.812</td>\n",
              "    </tr>\n",
              "  </tbody>\n",
              "</table>\n",
              "<p>37225 rows × 5 columns</p>\n",
              "</div>\n",
              "      <button class=\"colab-df-convert\" onclick=\"convertToInteractive('df-49d94370-a6a1-4a3d-935f-af4819da526c')\"\n",
              "              title=\"Convert this dataframe to an interactive table.\"\n",
              "              style=\"display:none;\">\n",
              "        \n",
              "  <svg xmlns=\"http://www.w3.org/2000/svg\" height=\"24px\"viewBox=\"0 0 24 24\"\n",
              "       width=\"24px\">\n",
              "    <path d=\"M0 0h24v24H0V0z\" fill=\"none\"/>\n",
              "    <path d=\"M18.56 5.44l.94 2.06.94-2.06 2.06-.94-2.06-.94-.94-2.06-.94 2.06-2.06.94zm-11 1L8.5 8.5l.94-2.06 2.06-.94-2.06-.94L8.5 2.5l-.94 2.06-2.06.94zm10 10l.94 2.06.94-2.06 2.06-.94-2.06-.94-.94-2.06-.94 2.06-2.06.94z\"/><path d=\"M17.41 7.96l-1.37-1.37c-.4-.4-.92-.59-1.43-.59-.52 0-1.04.2-1.43.59L10.3 9.45l-7.72 7.72c-.78.78-.78 2.05 0 2.83L4 21.41c.39.39.9.59 1.41.59.51 0 1.02-.2 1.41-.59l7.78-7.78 2.81-2.81c.8-.78.8-2.07 0-2.86zM5.41 20L4 18.59l7.72-7.72 1.47 1.35L5.41 20z\"/>\n",
              "  </svg>\n",
              "      </button>\n",
              "      \n",
              "  <style>\n",
              "    .colab-df-container {\n",
              "      display:flex;\n",
              "      flex-wrap:wrap;\n",
              "      gap: 12px;\n",
              "    }\n",
              "\n",
              "    .colab-df-convert {\n",
              "      background-color: #E8F0FE;\n",
              "      border: none;\n",
              "      border-radius: 50%;\n",
              "      cursor: pointer;\n",
              "      display: none;\n",
              "      fill: #1967D2;\n",
              "      height: 32px;\n",
              "      padding: 0 0 0 0;\n",
              "      width: 32px;\n",
              "    }\n",
              "\n",
              "    .colab-df-convert:hover {\n",
              "      background-color: #E2EBFA;\n",
              "      box-shadow: 0px 1px 2px rgba(60, 64, 67, 0.3), 0px 1px 3px 1px rgba(60, 64, 67, 0.15);\n",
              "      fill: #174EA6;\n",
              "    }\n",
              "\n",
              "    [theme=dark] .colab-df-convert {\n",
              "      background-color: #3B4455;\n",
              "      fill: #D2E3FC;\n",
              "    }\n",
              "\n",
              "    [theme=dark] .colab-df-convert:hover {\n",
              "      background-color: #434B5C;\n",
              "      box-shadow: 0px 1px 3px 1px rgba(0, 0, 0, 0.15);\n",
              "      filter: drop-shadow(0px 1px 2px rgba(0, 0, 0, 0.3));\n",
              "      fill: #FFFFFF;\n",
              "    }\n",
              "  </style>\n",
              "\n",
              "      <script>\n",
              "        const buttonEl =\n",
              "          document.querySelector('#df-49d94370-a6a1-4a3d-935f-af4819da526c button.colab-df-convert');\n",
              "        buttonEl.style.display =\n",
              "          google.colab.kernel.accessAllowed ? 'block' : 'none';\n",
              "\n",
              "        async function convertToInteractive(key) {\n",
              "          const element = document.querySelector('#df-49d94370-a6a1-4a3d-935f-af4819da526c');\n",
              "          const dataTable =\n",
              "            await google.colab.kernel.invokeFunction('convertToInteractive',\n",
              "                                                     [key], {});\n",
              "          if (!dataTable) return;\n",
              "\n",
              "          const docLinkHtml = 'Like what you see? Visit the ' +\n",
              "            '<a target=\"_blank\" href=https://colab.research.google.com/notebooks/data_table.ipynb>data table notebook</a>'\n",
              "            + ' to learn more about interactive tables.';\n",
              "          element.innerHTML = '';\n",
              "          dataTable['output_type'] = 'display_data';\n",
              "          await google.colab.output.renderOutput(dataTable, element);\n",
              "          const docLink = document.createElement('div');\n",
              "          docLink.innerHTML = docLinkHtml;\n",
              "          element.appendChild(docLink);\n",
              "        }\n",
              "      </script>\n",
              "    </div>\n",
              "  </div>\n",
              "  "
            ]
          },
          "metadata": {},
          "execution_count": 4
        }
      ],
      "source": [
        "jogging=pd.read_csv('/content/drive/MyDrive/4_2_전기에너지하베스팅/CODE/11week/뛰기.csv') # csv 파일은 파일명 수정할것\n",
        "jogging"
      ]
    },
    {
      "cell_type": "code",
      "source": [
        "jogging.head(12)  # 100Hz의 특징을 확인할 수 있다.(1초에 100개의 data수집)"
      ],
      "metadata": {
        "colab": {
          "base_uri": "https://localhost:8080/",
          "height": 426
        },
        "id": "k6M9dNh9FRJz",
        "outputId": "a7951cd7-28a4-4dcf-f013-edd917b45d93"
      },
      "execution_count": null,
      "outputs": [
        {
          "output_type": "execute_result",
          "data": {
            "text/plain": [
              "        time       gFx       gFy       gFz  gFTotal\n",
              "0   0.007771  0.061325 -0.789642 -0.600159    0.994\n",
              "1   0.011567  0.022949 -0.801163 -0.586563    0.993\n",
              "2   0.021336  0.003510 -0.800568 -0.617966    1.011\n",
              "3   0.033118 -0.013702 -0.798370 -0.611191    1.006\n",
              "4   0.041466 -0.025558 -0.789948 -0.612442    1.000\n",
              "5   0.051011 -0.028976 -0.781006 -0.612259    0.993\n",
              "6   0.061449 -0.030380 -0.771942 -0.611343    0.985\n",
              "7   0.072445 -0.017944 -0.763672 -0.615280    0.981\n",
              "8   0.083390  0.013275 -0.766144 -0.620483    0.986\n",
              "9   0.092197  0.039917 -0.764816 -0.636566    0.996\n",
              "10  0.101262  0.059250 -0.747818 -0.656021    0.997\n",
              "11  0.111510  0.069809 -0.734253 -0.657059    0.988"
            ],
            "text/html": [
              "\n",
              "  <div id=\"df-6f12fd48-7d22-427b-8de4-07694dec3306\">\n",
              "    <div class=\"colab-df-container\">\n",
              "      <div>\n",
              "<style scoped>\n",
              "    .dataframe tbody tr th:only-of-type {\n",
              "        vertical-align: middle;\n",
              "    }\n",
              "\n",
              "    .dataframe tbody tr th {\n",
              "        vertical-align: top;\n",
              "    }\n",
              "\n",
              "    .dataframe thead th {\n",
              "        text-align: right;\n",
              "    }\n",
              "</style>\n",
              "<table border=\"1\" class=\"dataframe\">\n",
              "  <thead>\n",
              "    <tr style=\"text-align: right;\">\n",
              "      <th></th>\n",
              "      <th>time</th>\n",
              "      <th>gFx</th>\n",
              "      <th>gFy</th>\n",
              "      <th>gFz</th>\n",
              "      <th>gFTotal</th>\n",
              "    </tr>\n",
              "  </thead>\n",
              "  <tbody>\n",
              "    <tr>\n",
              "      <th>0</th>\n",
              "      <td>0.007771</td>\n",
              "      <td>0.061325</td>\n",
              "      <td>-0.789642</td>\n",
              "      <td>-0.600159</td>\n",
              "      <td>0.994</td>\n",
              "    </tr>\n",
              "    <tr>\n",
              "      <th>1</th>\n",
              "      <td>0.011567</td>\n",
              "      <td>0.022949</td>\n",
              "      <td>-0.801163</td>\n",
              "      <td>-0.586563</td>\n",
              "      <td>0.993</td>\n",
              "    </tr>\n",
              "    <tr>\n",
              "      <th>2</th>\n",
              "      <td>0.021336</td>\n",
              "      <td>0.003510</td>\n",
              "      <td>-0.800568</td>\n",
              "      <td>-0.617966</td>\n",
              "      <td>1.011</td>\n",
              "    </tr>\n",
              "    <tr>\n",
              "      <th>3</th>\n",
              "      <td>0.033118</td>\n",
              "      <td>-0.013702</td>\n",
              "      <td>-0.798370</td>\n",
              "      <td>-0.611191</td>\n",
              "      <td>1.006</td>\n",
              "    </tr>\n",
              "    <tr>\n",
              "      <th>4</th>\n",
              "      <td>0.041466</td>\n",
              "      <td>-0.025558</td>\n",
              "      <td>-0.789948</td>\n",
              "      <td>-0.612442</td>\n",
              "      <td>1.000</td>\n",
              "    </tr>\n",
              "    <tr>\n",
              "      <th>5</th>\n",
              "      <td>0.051011</td>\n",
              "      <td>-0.028976</td>\n",
              "      <td>-0.781006</td>\n",
              "      <td>-0.612259</td>\n",
              "      <td>0.993</td>\n",
              "    </tr>\n",
              "    <tr>\n",
              "      <th>6</th>\n",
              "      <td>0.061449</td>\n",
              "      <td>-0.030380</td>\n",
              "      <td>-0.771942</td>\n",
              "      <td>-0.611343</td>\n",
              "      <td>0.985</td>\n",
              "    </tr>\n",
              "    <tr>\n",
              "      <th>7</th>\n",
              "      <td>0.072445</td>\n",
              "      <td>-0.017944</td>\n",
              "      <td>-0.763672</td>\n",
              "      <td>-0.615280</td>\n",
              "      <td>0.981</td>\n",
              "    </tr>\n",
              "    <tr>\n",
              "      <th>8</th>\n",
              "      <td>0.083390</td>\n",
              "      <td>0.013275</td>\n",
              "      <td>-0.766144</td>\n",
              "      <td>-0.620483</td>\n",
              "      <td>0.986</td>\n",
              "    </tr>\n",
              "    <tr>\n",
              "      <th>9</th>\n",
              "      <td>0.092197</td>\n",
              "      <td>0.039917</td>\n",
              "      <td>-0.764816</td>\n",
              "      <td>-0.636566</td>\n",
              "      <td>0.996</td>\n",
              "    </tr>\n",
              "    <tr>\n",
              "      <th>10</th>\n",
              "      <td>0.101262</td>\n",
              "      <td>0.059250</td>\n",
              "      <td>-0.747818</td>\n",
              "      <td>-0.656021</td>\n",
              "      <td>0.997</td>\n",
              "    </tr>\n",
              "    <tr>\n",
              "      <th>11</th>\n",
              "      <td>0.111510</td>\n",
              "      <td>0.069809</td>\n",
              "      <td>-0.734253</td>\n",
              "      <td>-0.657059</td>\n",
              "      <td>0.988</td>\n",
              "    </tr>\n",
              "  </tbody>\n",
              "</table>\n",
              "</div>\n",
              "      <button class=\"colab-df-convert\" onclick=\"convertToInteractive('df-6f12fd48-7d22-427b-8de4-07694dec3306')\"\n",
              "              title=\"Convert this dataframe to an interactive table.\"\n",
              "              style=\"display:none;\">\n",
              "        \n",
              "  <svg xmlns=\"http://www.w3.org/2000/svg\" height=\"24px\"viewBox=\"0 0 24 24\"\n",
              "       width=\"24px\">\n",
              "    <path d=\"M0 0h24v24H0V0z\" fill=\"none\"/>\n",
              "    <path d=\"M18.56 5.44l.94 2.06.94-2.06 2.06-.94-2.06-.94-.94-2.06-.94 2.06-2.06.94zm-11 1L8.5 8.5l.94-2.06 2.06-.94-2.06-.94L8.5 2.5l-.94 2.06-2.06.94zm10 10l.94 2.06.94-2.06 2.06-.94-2.06-.94-.94-2.06-.94 2.06-2.06.94z\"/><path d=\"M17.41 7.96l-1.37-1.37c-.4-.4-.92-.59-1.43-.59-.52 0-1.04.2-1.43.59L10.3 9.45l-7.72 7.72c-.78.78-.78 2.05 0 2.83L4 21.41c.39.39.9.59 1.41.59.51 0 1.02-.2 1.41-.59l7.78-7.78 2.81-2.81c.8-.78.8-2.07 0-2.86zM5.41 20L4 18.59l7.72-7.72 1.47 1.35L5.41 20z\"/>\n",
              "  </svg>\n",
              "      </button>\n",
              "      \n",
              "  <style>\n",
              "    .colab-df-container {\n",
              "      display:flex;\n",
              "      flex-wrap:wrap;\n",
              "      gap: 12px;\n",
              "    }\n",
              "\n",
              "    .colab-df-convert {\n",
              "      background-color: #E8F0FE;\n",
              "      border: none;\n",
              "      border-radius: 50%;\n",
              "      cursor: pointer;\n",
              "      display: none;\n",
              "      fill: #1967D2;\n",
              "      height: 32px;\n",
              "      padding: 0 0 0 0;\n",
              "      width: 32px;\n",
              "    }\n",
              "\n",
              "    .colab-df-convert:hover {\n",
              "      background-color: #E2EBFA;\n",
              "      box-shadow: 0px 1px 2px rgba(60, 64, 67, 0.3), 0px 1px 3px 1px rgba(60, 64, 67, 0.15);\n",
              "      fill: #174EA6;\n",
              "    }\n",
              "\n",
              "    [theme=dark] .colab-df-convert {\n",
              "      background-color: #3B4455;\n",
              "      fill: #D2E3FC;\n",
              "    }\n",
              "\n",
              "    [theme=dark] .colab-df-convert:hover {\n",
              "      background-color: #434B5C;\n",
              "      box-shadow: 0px 1px 3px 1px rgba(0, 0, 0, 0.15);\n",
              "      filter: drop-shadow(0px 1px 2px rgba(0, 0, 0, 0.3));\n",
              "      fill: #FFFFFF;\n",
              "    }\n",
              "  </style>\n",
              "\n",
              "      <script>\n",
              "        const buttonEl =\n",
              "          document.querySelector('#df-6f12fd48-7d22-427b-8de4-07694dec3306 button.colab-df-convert');\n",
              "        buttonEl.style.display =\n",
              "          google.colab.kernel.accessAllowed ? 'block' : 'none';\n",
              "\n",
              "        async function convertToInteractive(key) {\n",
              "          const element = document.querySelector('#df-6f12fd48-7d22-427b-8de4-07694dec3306');\n",
              "          const dataTable =\n",
              "            await google.colab.kernel.invokeFunction('convertToInteractive',\n",
              "                                                     [key], {});\n",
              "          if (!dataTable) return;\n",
              "\n",
              "          const docLinkHtml = 'Like what you see? Visit the ' +\n",
              "            '<a target=\"_blank\" href=https://colab.research.google.com/notebooks/data_table.ipynb>data table notebook</a>'\n",
              "            + ' to learn more about interactive tables.';\n",
              "          element.innerHTML = '';\n",
              "          dataTable['output_type'] = 'display_data';\n",
              "          await google.colab.output.renderOutput(dataTable, element);\n",
              "          const docLink = document.createElement('div');\n",
              "          docLink.innerHTML = docLinkHtml;\n",
              "          element.appendChild(docLink);\n",
              "        }\n",
              "      </script>\n",
              "    </div>\n",
              "  </div>\n",
              "  "
            ]
          },
          "metadata": {},
          "execution_count": 5
        }
      ]
    },
    {
      "cell_type": "code",
      "execution_count": null,
      "metadata": {
        "colab": {
          "base_uri": "https://localhost:8080/",
          "height": 424
        },
        "id": "3Qo-WCGBwSDq",
        "outputId": "01054150-5c6f-4a4c-9128-51916017d14b"
      },
      "outputs": [
        {
          "output_type": "execute_result",
          "data": {
            "text/plain": [
              "             time       gFx       gFy       gFz  gFTotal\n",
              "0        0.008431 -0.119949 -0.858963 -0.561295    1.033\n",
              "1        0.017661 -0.144073 -0.868179 -0.569443    1.048\n",
              "2        0.027832 -0.150024 -0.857712 -0.574188    1.043\n",
              "3        0.037942 -0.154800 -0.847992 -0.573059    1.035\n",
              "4        0.047956 -0.145584 -0.834686 -0.570267    1.021\n",
              "...           ...       ...       ...       ...      ...\n",
              "74300  740.537377  0.061050 -0.796814 -0.756821    1.101\n",
              "74301  740.547404  0.059708 -0.827240 -0.751831    1.119\n",
              "74302  740.557299  0.056305 -0.862640 -0.744583    1.141\n",
              "74303  740.567334  0.044540 -0.891907 -0.734299    1.156\n",
              "74304  740.579200  0.027893 -0.907761 -0.733963    1.168\n",
              "\n",
              "[74305 rows x 5 columns]"
            ],
            "text/html": [
              "\n",
              "  <div id=\"df-54d8f5a3-8ad5-411b-b919-efc08c37754f\">\n",
              "    <div class=\"colab-df-container\">\n",
              "      <div>\n",
              "<style scoped>\n",
              "    .dataframe tbody tr th:only-of-type {\n",
              "        vertical-align: middle;\n",
              "    }\n",
              "\n",
              "    .dataframe tbody tr th {\n",
              "        vertical-align: top;\n",
              "    }\n",
              "\n",
              "    .dataframe thead th {\n",
              "        text-align: right;\n",
              "    }\n",
              "</style>\n",
              "<table border=\"1\" class=\"dataframe\">\n",
              "  <thead>\n",
              "    <tr style=\"text-align: right;\">\n",
              "      <th></th>\n",
              "      <th>time</th>\n",
              "      <th>gFx</th>\n",
              "      <th>gFy</th>\n",
              "      <th>gFz</th>\n",
              "      <th>gFTotal</th>\n",
              "    </tr>\n",
              "  </thead>\n",
              "  <tbody>\n",
              "    <tr>\n",
              "      <th>0</th>\n",
              "      <td>0.008431</td>\n",
              "      <td>-0.119949</td>\n",
              "      <td>-0.858963</td>\n",
              "      <td>-0.561295</td>\n",
              "      <td>1.033</td>\n",
              "    </tr>\n",
              "    <tr>\n",
              "      <th>1</th>\n",
              "      <td>0.017661</td>\n",
              "      <td>-0.144073</td>\n",
              "      <td>-0.868179</td>\n",
              "      <td>-0.569443</td>\n",
              "      <td>1.048</td>\n",
              "    </tr>\n",
              "    <tr>\n",
              "      <th>2</th>\n",
              "      <td>0.027832</td>\n",
              "      <td>-0.150024</td>\n",
              "      <td>-0.857712</td>\n",
              "      <td>-0.574188</td>\n",
              "      <td>1.043</td>\n",
              "    </tr>\n",
              "    <tr>\n",
              "      <th>3</th>\n",
              "      <td>0.037942</td>\n",
              "      <td>-0.154800</td>\n",
              "      <td>-0.847992</td>\n",
              "      <td>-0.573059</td>\n",
              "      <td>1.035</td>\n",
              "    </tr>\n",
              "    <tr>\n",
              "      <th>4</th>\n",
              "      <td>0.047956</td>\n",
              "      <td>-0.145584</td>\n",
              "      <td>-0.834686</td>\n",
              "      <td>-0.570267</td>\n",
              "      <td>1.021</td>\n",
              "    </tr>\n",
              "    <tr>\n",
              "      <th>...</th>\n",
              "      <td>...</td>\n",
              "      <td>...</td>\n",
              "      <td>...</td>\n",
              "      <td>...</td>\n",
              "      <td>...</td>\n",
              "    </tr>\n",
              "    <tr>\n",
              "      <th>74300</th>\n",
              "      <td>740.537377</td>\n",
              "      <td>0.061050</td>\n",
              "      <td>-0.796814</td>\n",
              "      <td>-0.756821</td>\n",
              "      <td>1.101</td>\n",
              "    </tr>\n",
              "    <tr>\n",
              "      <th>74301</th>\n",
              "      <td>740.547404</td>\n",
              "      <td>0.059708</td>\n",
              "      <td>-0.827240</td>\n",
              "      <td>-0.751831</td>\n",
              "      <td>1.119</td>\n",
              "    </tr>\n",
              "    <tr>\n",
              "      <th>74302</th>\n",
              "      <td>740.557299</td>\n",
              "      <td>0.056305</td>\n",
              "      <td>-0.862640</td>\n",
              "      <td>-0.744583</td>\n",
              "      <td>1.141</td>\n",
              "    </tr>\n",
              "    <tr>\n",
              "      <th>74303</th>\n",
              "      <td>740.567334</td>\n",
              "      <td>0.044540</td>\n",
              "      <td>-0.891907</td>\n",
              "      <td>-0.734299</td>\n",
              "      <td>1.156</td>\n",
              "    </tr>\n",
              "    <tr>\n",
              "      <th>74304</th>\n",
              "      <td>740.579200</td>\n",
              "      <td>0.027893</td>\n",
              "      <td>-0.907761</td>\n",
              "      <td>-0.733963</td>\n",
              "      <td>1.168</td>\n",
              "    </tr>\n",
              "  </tbody>\n",
              "</table>\n",
              "<p>74305 rows × 5 columns</p>\n",
              "</div>\n",
              "      <button class=\"colab-df-convert\" onclick=\"convertToInteractive('df-54d8f5a3-8ad5-411b-b919-efc08c37754f')\"\n",
              "              title=\"Convert this dataframe to an interactive table.\"\n",
              "              style=\"display:none;\">\n",
              "        \n",
              "  <svg xmlns=\"http://www.w3.org/2000/svg\" height=\"24px\"viewBox=\"0 0 24 24\"\n",
              "       width=\"24px\">\n",
              "    <path d=\"M0 0h24v24H0V0z\" fill=\"none\"/>\n",
              "    <path d=\"M18.56 5.44l.94 2.06.94-2.06 2.06-.94-2.06-.94-.94-2.06-.94 2.06-2.06.94zm-11 1L8.5 8.5l.94-2.06 2.06-.94-2.06-.94L8.5 2.5l-.94 2.06-2.06.94zm10 10l.94 2.06.94-2.06 2.06-.94-2.06-.94-.94-2.06-.94 2.06-2.06.94z\"/><path d=\"M17.41 7.96l-1.37-1.37c-.4-.4-.92-.59-1.43-.59-.52 0-1.04.2-1.43.59L10.3 9.45l-7.72 7.72c-.78.78-.78 2.05 0 2.83L4 21.41c.39.39.9.59 1.41.59.51 0 1.02-.2 1.41-.59l7.78-7.78 2.81-2.81c.8-.78.8-2.07 0-2.86zM5.41 20L4 18.59l7.72-7.72 1.47 1.35L5.41 20z\"/>\n",
              "  </svg>\n",
              "      </button>\n",
              "      \n",
              "  <style>\n",
              "    .colab-df-container {\n",
              "      display:flex;\n",
              "      flex-wrap:wrap;\n",
              "      gap: 12px;\n",
              "    }\n",
              "\n",
              "    .colab-df-convert {\n",
              "      background-color: #E8F0FE;\n",
              "      border: none;\n",
              "      border-radius: 50%;\n",
              "      cursor: pointer;\n",
              "      display: none;\n",
              "      fill: #1967D2;\n",
              "      height: 32px;\n",
              "      padding: 0 0 0 0;\n",
              "      width: 32px;\n",
              "    }\n",
              "\n",
              "    .colab-df-convert:hover {\n",
              "      background-color: #E2EBFA;\n",
              "      box-shadow: 0px 1px 2px rgba(60, 64, 67, 0.3), 0px 1px 3px 1px rgba(60, 64, 67, 0.15);\n",
              "      fill: #174EA6;\n",
              "    }\n",
              "\n",
              "    [theme=dark] .colab-df-convert {\n",
              "      background-color: #3B4455;\n",
              "      fill: #D2E3FC;\n",
              "    }\n",
              "\n",
              "    [theme=dark] .colab-df-convert:hover {\n",
              "      background-color: #434B5C;\n",
              "      box-shadow: 0px 1px 3px 1px rgba(0, 0, 0, 0.15);\n",
              "      filter: drop-shadow(0px 1px 2px rgba(0, 0, 0, 0.3));\n",
              "      fill: #FFFFFF;\n",
              "    }\n",
              "  </style>\n",
              "\n",
              "      <script>\n",
              "        const buttonEl =\n",
              "          document.querySelector('#df-54d8f5a3-8ad5-411b-b919-efc08c37754f button.colab-df-convert');\n",
              "        buttonEl.style.display =\n",
              "          google.colab.kernel.accessAllowed ? 'block' : 'none';\n",
              "\n",
              "        async function convertToInteractive(key) {\n",
              "          const element = document.querySelector('#df-54d8f5a3-8ad5-411b-b919-efc08c37754f');\n",
              "          const dataTable =\n",
              "            await google.colab.kernel.invokeFunction('convertToInteractive',\n",
              "                                                     [key], {});\n",
              "          if (!dataTable) return;\n",
              "\n",
              "          const docLinkHtml = 'Like what you see? Visit the ' +\n",
              "            '<a target=\"_blank\" href=https://colab.research.google.com/notebooks/data_table.ipynb>data table notebook</a>'\n",
              "            + ' to learn more about interactive tables.';\n",
              "          element.innerHTML = '';\n",
              "          dataTable['output_type'] = 'display_data';\n",
              "          await google.colab.output.renderOutput(dataTable, element);\n",
              "          const docLink = document.createElement('div');\n",
              "          docLink.innerHTML = docLinkHtml;\n",
              "          element.appendChild(docLink);\n",
              "        }\n",
              "      </script>\n",
              "    </div>\n",
              "  </div>\n",
              "  "
            ]
          },
          "metadata": {},
          "execution_count": 6
        }
      ],
      "source": [
        "walking=pd.read_csv('/content/drive/MyDrive/4_2_전기에너지하베스팅/CODE/11week/걷기.csv')\n",
        "walking"
      ]
    },
    {
      "cell_type": "code",
      "source": [
        "sitting = pd.read_csv('/content/drive/MyDrive/4_2_전기에너지하베스팅/CODE/11week/앉기.csv')\n",
        "sitting"
      ],
      "metadata": {
        "colab": {
          "base_uri": "https://localhost:8080/",
          "height": 424
        },
        "id": "OIYGpAMlvRVs",
        "outputId": "56491651-0e28-4675-ab54-41d8eaf6bd63"
      },
      "execution_count": null,
      "outputs": [
        {
          "output_type": "execute_result",
          "data": {
            "text/plain": [
              "             time       gFx       gFy       gFz  gFTotal\n",
              "0        0.008171  0.038284 -0.406204 -0.837601    0.932\n",
              "1        0.012029  0.021240 -0.391968 -0.799347    0.891\n",
              "2        0.022431 -0.003479 -0.409805 -0.871857    0.963\n",
              "3        0.032109  0.000992 -0.422150 -0.919724    1.012\n",
              "4        0.043274  0.035660 -0.411850 -0.920349    1.009\n",
              "...           ...       ...       ...       ...      ...\n",
              "27844  277.543395 -0.193604 -0.317322 -0.972015    1.041\n",
              "27845  277.553907 -0.182327 -0.311172 -0.981766    1.046\n",
              "27846  277.562589 -0.175552 -0.300262 -0.963791    1.025\n",
              "27847  277.571349 -0.182007 -0.280548 -0.908310    0.968\n",
              "27848  277.580963 -0.205902 -0.275864 -0.892136    0.956\n",
              "\n",
              "[27849 rows x 5 columns]"
            ],
            "text/html": [
              "\n",
              "  <div id=\"df-55ffff81-559b-422c-81e4-d160f4e455e8\">\n",
              "    <div class=\"colab-df-container\">\n",
              "      <div>\n",
              "<style scoped>\n",
              "    .dataframe tbody tr th:only-of-type {\n",
              "        vertical-align: middle;\n",
              "    }\n",
              "\n",
              "    .dataframe tbody tr th {\n",
              "        vertical-align: top;\n",
              "    }\n",
              "\n",
              "    .dataframe thead th {\n",
              "        text-align: right;\n",
              "    }\n",
              "</style>\n",
              "<table border=\"1\" class=\"dataframe\">\n",
              "  <thead>\n",
              "    <tr style=\"text-align: right;\">\n",
              "      <th></th>\n",
              "      <th>time</th>\n",
              "      <th>gFx</th>\n",
              "      <th>gFy</th>\n",
              "      <th>gFz</th>\n",
              "      <th>gFTotal</th>\n",
              "    </tr>\n",
              "  </thead>\n",
              "  <tbody>\n",
              "    <tr>\n",
              "      <th>0</th>\n",
              "      <td>0.008171</td>\n",
              "      <td>0.038284</td>\n",
              "      <td>-0.406204</td>\n",
              "      <td>-0.837601</td>\n",
              "      <td>0.932</td>\n",
              "    </tr>\n",
              "    <tr>\n",
              "      <th>1</th>\n",
              "      <td>0.012029</td>\n",
              "      <td>0.021240</td>\n",
              "      <td>-0.391968</td>\n",
              "      <td>-0.799347</td>\n",
              "      <td>0.891</td>\n",
              "    </tr>\n",
              "    <tr>\n",
              "      <th>2</th>\n",
              "      <td>0.022431</td>\n",
              "      <td>-0.003479</td>\n",
              "      <td>-0.409805</td>\n",
              "      <td>-0.871857</td>\n",
              "      <td>0.963</td>\n",
              "    </tr>\n",
              "    <tr>\n",
              "      <th>3</th>\n",
              "      <td>0.032109</td>\n",
              "      <td>0.000992</td>\n",
              "      <td>-0.422150</td>\n",
              "      <td>-0.919724</td>\n",
              "      <td>1.012</td>\n",
              "    </tr>\n",
              "    <tr>\n",
              "      <th>4</th>\n",
              "      <td>0.043274</td>\n",
              "      <td>0.035660</td>\n",
              "      <td>-0.411850</td>\n",
              "      <td>-0.920349</td>\n",
              "      <td>1.009</td>\n",
              "    </tr>\n",
              "    <tr>\n",
              "      <th>...</th>\n",
              "      <td>...</td>\n",
              "      <td>...</td>\n",
              "      <td>...</td>\n",
              "      <td>...</td>\n",
              "      <td>...</td>\n",
              "    </tr>\n",
              "    <tr>\n",
              "      <th>27844</th>\n",
              "      <td>277.543395</td>\n",
              "      <td>-0.193604</td>\n",
              "      <td>-0.317322</td>\n",
              "      <td>-0.972015</td>\n",
              "      <td>1.041</td>\n",
              "    </tr>\n",
              "    <tr>\n",
              "      <th>27845</th>\n",
              "      <td>277.553907</td>\n",
              "      <td>-0.182327</td>\n",
              "      <td>-0.311172</td>\n",
              "      <td>-0.981766</td>\n",
              "      <td>1.046</td>\n",
              "    </tr>\n",
              "    <tr>\n",
              "      <th>27846</th>\n",
              "      <td>277.562589</td>\n",
              "      <td>-0.175552</td>\n",
              "      <td>-0.300262</td>\n",
              "      <td>-0.963791</td>\n",
              "      <td>1.025</td>\n",
              "    </tr>\n",
              "    <tr>\n",
              "      <th>27847</th>\n",
              "      <td>277.571349</td>\n",
              "      <td>-0.182007</td>\n",
              "      <td>-0.280548</td>\n",
              "      <td>-0.908310</td>\n",
              "      <td>0.968</td>\n",
              "    </tr>\n",
              "    <tr>\n",
              "      <th>27848</th>\n",
              "      <td>277.580963</td>\n",
              "      <td>-0.205902</td>\n",
              "      <td>-0.275864</td>\n",
              "      <td>-0.892136</td>\n",
              "      <td>0.956</td>\n",
              "    </tr>\n",
              "  </tbody>\n",
              "</table>\n",
              "<p>27849 rows × 5 columns</p>\n",
              "</div>\n",
              "      <button class=\"colab-df-convert\" onclick=\"convertToInteractive('df-55ffff81-559b-422c-81e4-d160f4e455e8')\"\n",
              "              title=\"Convert this dataframe to an interactive table.\"\n",
              "              style=\"display:none;\">\n",
              "        \n",
              "  <svg xmlns=\"http://www.w3.org/2000/svg\" height=\"24px\"viewBox=\"0 0 24 24\"\n",
              "       width=\"24px\">\n",
              "    <path d=\"M0 0h24v24H0V0z\" fill=\"none\"/>\n",
              "    <path d=\"M18.56 5.44l.94 2.06.94-2.06 2.06-.94-2.06-.94-.94-2.06-.94 2.06-2.06.94zm-11 1L8.5 8.5l.94-2.06 2.06-.94-2.06-.94L8.5 2.5l-.94 2.06-2.06.94zm10 10l.94 2.06.94-2.06 2.06-.94-2.06-.94-.94-2.06-.94 2.06-2.06.94z\"/><path d=\"M17.41 7.96l-1.37-1.37c-.4-.4-.92-.59-1.43-.59-.52 0-1.04.2-1.43.59L10.3 9.45l-7.72 7.72c-.78.78-.78 2.05 0 2.83L4 21.41c.39.39.9.59 1.41.59.51 0 1.02-.2 1.41-.59l7.78-7.78 2.81-2.81c.8-.78.8-2.07 0-2.86zM5.41 20L4 18.59l7.72-7.72 1.47 1.35L5.41 20z\"/>\n",
              "  </svg>\n",
              "      </button>\n",
              "      \n",
              "  <style>\n",
              "    .colab-df-container {\n",
              "      display:flex;\n",
              "      flex-wrap:wrap;\n",
              "      gap: 12px;\n",
              "    }\n",
              "\n",
              "    .colab-df-convert {\n",
              "      background-color: #E8F0FE;\n",
              "      border: none;\n",
              "      border-radius: 50%;\n",
              "      cursor: pointer;\n",
              "      display: none;\n",
              "      fill: #1967D2;\n",
              "      height: 32px;\n",
              "      padding: 0 0 0 0;\n",
              "      width: 32px;\n",
              "    }\n",
              "\n",
              "    .colab-df-convert:hover {\n",
              "      background-color: #E2EBFA;\n",
              "      box-shadow: 0px 1px 2px rgba(60, 64, 67, 0.3), 0px 1px 3px 1px rgba(60, 64, 67, 0.15);\n",
              "      fill: #174EA6;\n",
              "    }\n",
              "\n",
              "    [theme=dark] .colab-df-convert {\n",
              "      background-color: #3B4455;\n",
              "      fill: #D2E3FC;\n",
              "    }\n",
              "\n",
              "    [theme=dark] .colab-df-convert:hover {\n",
              "      background-color: #434B5C;\n",
              "      box-shadow: 0px 1px 3px 1px rgba(0, 0, 0, 0.15);\n",
              "      filter: drop-shadow(0px 1px 2px rgba(0, 0, 0, 0.3));\n",
              "      fill: #FFFFFF;\n",
              "    }\n",
              "  </style>\n",
              "\n",
              "      <script>\n",
              "        const buttonEl =\n",
              "          document.querySelector('#df-55ffff81-559b-422c-81e4-d160f4e455e8 button.colab-df-convert');\n",
              "        buttonEl.style.display =\n",
              "          google.colab.kernel.accessAllowed ? 'block' : 'none';\n",
              "\n",
              "        async function convertToInteractive(key) {\n",
              "          const element = document.querySelector('#df-55ffff81-559b-422c-81e4-d160f4e455e8');\n",
              "          const dataTable =\n",
              "            await google.colab.kernel.invokeFunction('convertToInteractive',\n",
              "                                                     [key], {});\n",
              "          if (!dataTable) return;\n",
              "\n",
              "          const docLinkHtml = 'Like what you see? Visit the ' +\n",
              "            '<a target=\"_blank\" href=https://colab.research.google.com/notebooks/data_table.ipynb>data table notebook</a>'\n",
              "            + ' to learn more about interactive tables.';\n",
              "          element.innerHTML = '';\n",
              "          dataTable['output_type'] = 'display_data';\n",
              "          await google.colab.output.renderOutput(dataTable, element);\n",
              "          const docLink = document.createElement('div');\n",
              "          docLink.innerHTML = docLinkHtml;\n",
              "          element.appendChild(docLink);\n",
              "        }\n",
              "      </script>\n",
              "    </div>\n",
              "  </div>\n",
              "  "
            ]
          },
          "metadata": {},
          "execution_count": 7
        }
      ]
    },
    {
      "cell_type": "code",
      "execution_count": null,
      "metadata": {
        "id": "GovfuI0UwSDr"
      },
      "outputs": [],
      "source": [
        "import matplotlib.pyplot as plt\n",
        "import seaborn as sns"
      ]
    },
    {
      "cell_type": "code",
      "execution_count": null,
      "metadata": {
        "id": "a7jp1xDrwSDr"
      },
      "outputs": [],
      "source": [
        "jogging.insert(0, 'activity', 'jogging')  #조깅 데이터프레임에 feature_names activity로 jogging을 추가해줌 \n",
        "walking.insert(0, 'activity', 'walking') #워킹 데이터프레임에 feature_names activity로 walking을 추가해줌 \n",
        "sitting.insert(0, 'activity', 'sitting') #시팅 데이터프레임에 feature_names activity로 sitting을 추가해줌 "
      ]
    },
    {
      "cell_type": "code",
      "execution_count": null,
      "metadata": {
        "colab": {
          "base_uri": "https://localhost:8080/",
          "height": 424
        },
        "id": "OrhbuIy9wSDs",
        "outputId": "b01b5d02-9ba9-47be-f097-b32ba81e0012"
      },
      "outputs": [
        {
          "output_type": "execute_result",
          "data": {
            "text/plain": [
              "      activity        time       gFx       gFy       gFz  gFTotal\n",
              "0      jogging    0.007771  0.061325 -0.789642 -0.600159    0.994\n",
              "1      jogging    0.011567  0.022949 -0.801163 -0.586563    0.993\n",
              "2      jogging    0.021336  0.003510 -0.800568 -0.617966    1.011\n",
              "3      jogging    0.033118 -0.013702 -0.798370 -0.611191    1.006\n",
              "4      jogging    0.041466 -0.025558 -0.789948 -0.612442    1.000\n",
              "...        ...         ...       ...       ...       ...      ...\n",
              "37220  jogging  370.982771  0.190353 -0.687744 -0.361053    0.800\n",
              "37221  jogging  370.986505  0.204483 -0.696762 -0.368881    0.814\n",
              "37222  jogging  370.996407  0.215622 -0.703812 -0.368393    0.823\n",
              "37223  jogging  371.008568  0.212463 -0.709045 -0.360504    0.823\n",
              "37224  jogging  371.017102  0.195648 -0.715988 -0.329697    0.812\n",
              "\n",
              "[37225 rows x 6 columns]"
            ],
            "text/html": [
              "\n",
              "  <div id=\"df-3645d4b3-6cdd-4c63-8de0-d766935209ba\">\n",
              "    <div class=\"colab-df-container\">\n",
              "      <div>\n",
              "<style scoped>\n",
              "    .dataframe tbody tr th:only-of-type {\n",
              "        vertical-align: middle;\n",
              "    }\n",
              "\n",
              "    .dataframe tbody tr th {\n",
              "        vertical-align: top;\n",
              "    }\n",
              "\n",
              "    .dataframe thead th {\n",
              "        text-align: right;\n",
              "    }\n",
              "</style>\n",
              "<table border=\"1\" class=\"dataframe\">\n",
              "  <thead>\n",
              "    <tr style=\"text-align: right;\">\n",
              "      <th></th>\n",
              "      <th>activity</th>\n",
              "      <th>time</th>\n",
              "      <th>gFx</th>\n",
              "      <th>gFy</th>\n",
              "      <th>gFz</th>\n",
              "      <th>gFTotal</th>\n",
              "    </tr>\n",
              "  </thead>\n",
              "  <tbody>\n",
              "    <tr>\n",
              "      <th>0</th>\n",
              "      <td>jogging</td>\n",
              "      <td>0.007771</td>\n",
              "      <td>0.061325</td>\n",
              "      <td>-0.789642</td>\n",
              "      <td>-0.600159</td>\n",
              "      <td>0.994</td>\n",
              "    </tr>\n",
              "    <tr>\n",
              "      <th>1</th>\n",
              "      <td>jogging</td>\n",
              "      <td>0.011567</td>\n",
              "      <td>0.022949</td>\n",
              "      <td>-0.801163</td>\n",
              "      <td>-0.586563</td>\n",
              "      <td>0.993</td>\n",
              "    </tr>\n",
              "    <tr>\n",
              "      <th>2</th>\n",
              "      <td>jogging</td>\n",
              "      <td>0.021336</td>\n",
              "      <td>0.003510</td>\n",
              "      <td>-0.800568</td>\n",
              "      <td>-0.617966</td>\n",
              "      <td>1.011</td>\n",
              "    </tr>\n",
              "    <tr>\n",
              "      <th>3</th>\n",
              "      <td>jogging</td>\n",
              "      <td>0.033118</td>\n",
              "      <td>-0.013702</td>\n",
              "      <td>-0.798370</td>\n",
              "      <td>-0.611191</td>\n",
              "      <td>1.006</td>\n",
              "    </tr>\n",
              "    <tr>\n",
              "      <th>4</th>\n",
              "      <td>jogging</td>\n",
              "      <td>0.041466</td>\n",
              "      <td>-0.025558</td>\n",
              "      <td>-0.789948</td>\n",
              "      <td>-0.612442</td>\n",
              "      <td>1.000</td>\n",
              "    </tr>\n",
              "    <tr>\n",
              "      <th>...</th>\n",
              "      <td>...</td>\n",
              "      <td>...</td>\n",
              "      <td>...</td>\n",
              "      <td>...</td>\n",
              "      <td>...</td>\n",
              "      <td>...</td>\n",
              "    </tr>\n",
              "    <tr>\n",
              "      <th>37220</th>\n",
              "      <td>jogging</td>\n",
              "      <td>370.982771</td>\n",
              "      <td>0.190353</td>\n",
              "      <td>-0.687744</td>\n",
              "      <td>-0.361053</td>\n",
              "      <td>0.800</td>\n",
              "    </tr>\n",
              "    <tr>\n",
              "      <th>37221</th>\n",
              "      <td>jogging</td>\n",
              "      <td>370.986505</td>\n",
              "      <td>0.204483</td>\n",
              "      <td>-0.696762</td>\n",
              "      <td>-0.368881</td>\n",
              "      <td>0.814</td>\n",
              "    </tr>\n",
              "    <tr>\n",
              "      <th>37222</th>\n",
              "      <td>jogging</td>\n",
              "      <td>370.996407</td>\n",
              "      <td>0.215622</td>\n",
              "      <td>-0.703812</td>\n",
              "      <td>-0.368393</td>\n",
              "      <td>0.823</td>\n",
              "    </tr>\n",
              "    <tr>\n",
              "      <th>37223</th>\n",
              "      <td>jogging</td>\n",
              "      <td>371.008568</td>\n",
              "      <td>0.212463</td>\n",
              "      <td>-0.709045</td>\n",
              "      <td>-0.360504</td>\n",
              "      <td>0.823</td>\n",
              "    </tr>\n",
              "    <tr>\n",
              "      <th>37224</th>\n",
              "      <td>jogging</td>\n",
              "      <td>371.017102</td>\n",
              "      <td>0.195648</td>\n",
              "      <td>-0.715988</td>\n",
              "      <td>-0.329697</td>\n",
              "      <td>0.812</td>\n",
              "    </tr>\n",
              "  </tbody>\n",
              "</table>\n",
              "<p>37225 rows × 6 columns</p>\n",
              "</div>\n",
              "      <button class=\"colab-df-convert\" onclick=\"convertToInteractive('df-3645d4b3-6cdd-4c63-8de0-d766935209ba')\"\n",
              "              title=\"Convert this dataframe to an interactive table.\"\n",
              "              style=\"display:none;\">\n",
              "        \n",
              "  <svg xmlns=\"http://www.w3.org/2000/svg\" height=\"24px\"viewBox=\"0 0 24 24\"\n",
              "       width=\"24px\">\n",
              "    <path d=\"M0 0h24v24H0V0z\" fill=\"none\"/>\n",
              "    <path d=\"M18.56 5.44l.94 2.06.94-2.06 2.06-.94-2.06-.94-.94-2.06-.94 2.06-2.06.94zm-11 1L8.5 8.5l.94-2.06 2.06-.94-2.06-.94L8.5 2.5l-.94 2.06-2.06.94zm10 10l.94 2.06.94-2.06 2.06-.94-2.06-.94-.94-2.06-.94 2.06-2.06.94z\"/><path d=\"M17.41 7.96l-1.37-1.37c-.4-.4-.92-.59-1.43-.59-.52 0-1.04.2-1.43.59L10.3 9.45l-7.72 7.72c-.78.78-.78 2.05 0 2.83L4 21.41c.39.39.9.59 1.41.59.51 0 1.02-.2 1.41-.59l7.78-7.78 2.81-2.81c.8-.78.8-2.07 0-2.86zM5.41 20L4 18.59l7.72-7.72 1.47 1.35L5.41 20z\"/>\n",
              "  </svg>\n",
              "      </button>\n",
              "      \n",
              "  <style>\n",
              "    .colab-df-container {\n",
              "      display:flex;\n",
              "      flex-wrap:wrap;\n",
              "      gap: 12px;\n",
              "    }\n",
              "\n",
              "    .colab-df-convert {\n",
              "      background-color: #E8F0FE;\n",
              "      border: none;\n",
              "      border-radius: 50%;\n",
              "      cursor: pointer;\n",
              "      display: none;\n",
              "      fill: #1967D2;\n",
              "      height: 32px;\n",
              "      padding: 0 0 0 0;\n",
              "      width: 32px;\n",
              "    }\n",
              "\n",
              "    .colab-df-convert:hover {\n",
              "      background-color: #E2EBFA;\n",
              "      box-shadow: 0px 1px 2px rgba(60, 64, 67, 0.3), 0px 1px 3px 1px rgba(60, 64, 67, 0.15);\n",
              "      fill: #174EA6;\n",
              "    }\n",
              "\n",
              "    [theme=dark] .colab-df-convert {\n",
              "      background-color: #3B4455;\n",
              "      fill: #D2E3FC;\n",
              "    }\n",
              "\n",
              "    [theme=dark] .colab-df-convert:hover {\n",
              "      background-color: #434B5C;\n",
              "      box-shadow: 0px 1px 3px 1px rgba(0, 0, 0, 0.15);\n",
              "      filter: drop-shadow(0px 1px 2px rgba(0, 0, 0, 0.3));\n",
              "      fill: #FFFFFF;\n",
              "    }\n",
              "  </style>\n",
              "\n",
              "      <script>\n",
              "        const buttonEl =\n",
              "          document.querySelector('#df-3645d4b3-6cdd-4c63-8de0-d766935209ba button.colab-df-convert');\n",
              "        buttonEl.style.display =\n",
              "          google.colab.kernel.accessAllowed ? 'block' : 'none';\n",
              "\n",
              "        async function convertToInteractive(key) {\n",
              "          const element = document.querySelector('#df-3645d4b3-6cdd-4c63-8de0-d766935209ba');\n",
              "          const dataTable =\n",
              "            await google.colab.kernel.invokeFunction('convertToInteractive',\n",
              "                                                     [key], {});\n",
              "          if (!dataTable) return;\n",
              "\n",
              "          const docLinkHtml = 'Like what you see? Visit the ' +\n",
              "            '<a target=\"_blank\" href=https://colab.research.google.com/notebooks/data_table.ipynb>data table notebook</a>'\n",
              "            + ' to learn more about interactive tables.';\n",
              "          element.innerHTML = '';\n",
              "          dataTable['output_type'] = 'display_data';\n",
              "          await google.colab.output.renderOutput(dataTable, element);\n",
              "          const docLink = document.createElement('div');\n",
              "          docLink.innerHTML = docLinkHtml;\n",
              "          element.appendChild(docLink);\n",
              "        }\n",
              "      </script>\n",
              "    </div>\n",
              "  </div>\n",
              "  "
            ]
          },
          "metadata": {},
          "execution_count": 10
        }
      ],
      "source": [
        "jogging"
      ]
    },
    {
      "cell_type": "code",
      "execution_count": null,
      "metadata": {
        "colab": {
          "base_uri": "https://localhost:8080/",
          "height": 424
        },
        "id": "IAVpAjnfwSDs",
        "outputId": "94067783-b8f5-47d0-c158-f9554fcf069f"
      },
      "outputs": [
        {
          "output_type": "execute_result",
          "data": {
            "text/plain": [
              "      activity        time       gFx       gFy       gFz  gFTotal\n",
              "0      walking    0.008431 -0.119949 -0.858963 -0.561295    1.033\n",
              "1      walking    0.017661 -0.144073 -0.868179 -0.569443    1.048\n",
              "2      walking    0.027832 -0.150024 -0.857712 -0.574188    1.043\n",
              "3      walking    0.037942 -0.154800 -0.847992 -0.573059    1.035\n",
              "4      walking    0.047956 -0.145584 -0.834686 -0.570267    1.021\n",
              "...        ...         ...       ...       ...       ...      ...\n",
              "74300  walking  740.537377  0.061050 -0.796814 -0.756821    1.101\n",
              "74301  walking  740.547404  0.059708 -0.827240 -0.751831    1.119\n",
              "74302  walking  740.557299  0.056305 -0.862640 -0.744583    1.141\n",
              "74303  walking  740.567334  0.044540 -0.891907 -0.734299    1.156\n",
              "74304  walking  740.579200  0.027893 -0.907761 -0.733963    1.168\n",
              "\n",
              "[74305 rows x 6 columns]"
            ],
            "text/html": [
              "\n",
              "  <div id=\"df-27eb5018-44c0-4efd-8b23-a277335144fc\">\n",
              "    <div class=\"colab-df-container\">\n",
              "      <div>\n",
              "<style scoped>\n",
              "    .dataframe tbody tr th:only-of-type {\n",
              "        vertical-align: middle;\n",
              "    }\n",
              "\n",
              "    .dataframe tbody tr th {\n",
              "        vertical-align: top;\n",
              "    }\n",
              "\n",
              "    .dataframe thead th {\n",
              "        text-align: right;\n",
              "    }\n",
              "</style>\n",
              "<table border=\"1\" class=\"dataframe\">\n",
              "  <thead>\n",
              "    <tr style=\"text-align: right;\">\n",
              "      <th></th>\n",
              "      <th>activity</th>\n",
              "      <th>time</th>\n",
              "      <th>gFx</th>\n",
              "      <th>gFy</th>\n",
              "      <th>gFz</th>\n",
              "      <th>gFTotal</th>\n",
              "    </tr>\n",
              "  </thead>\n",
              "  <tbody>\n",
              "    <tr>\n",
              "      <th>0</th>\n",
              "      <td>walking</td>\n",
              "      <td>0.008431</td>\n",
              "      <td>-0.119949</td>\n",
              "      <td>-0.858963</td>\n",
              "      <td>-0.561295</td>\n",
              "      <td>1.033</td>\n",
              "    </tr>\n",
              "    <tr>\n",
              "      <th>1</th>\n",
              "      <td>walking</td>\n",
              "      <td>0.017661</td>\n",
              "      <td>-0.144073</td>\n",
              "      <td>-0.868179</td>\n",
              "      <td>-0.569443</td>\n",
              "      <td>1.048</td>\n",
              "    </tr>\n",
              "    <tr>\n",
              "      <th>2</th>\n",
              "      <td>walking</td>\n",
              "      <td>0.027832</td>\n",
              "      <td>-0.150024</td>\n",
              "      <td>-0.857712</td>\n",
              "      <td>-0.574188</td>\n",
              "      <td>1.043</td>\n",
              "    </tr>\n",
              "    <tr>\n",
              "      <th>3</th>\n",
              "      <td>walking</td>\n",
              "      <td>0.037942</td>\n",
              "      <td>-0.154800</td>\n",
              "      <td>-0.847992</td>\n",
              "      <td>-0.573059</td>\n",
              "      <td>1.035</td>\n",
              "    </tr>\n",
              "    <tr>\n",
              "      <th>4</th>\n",
              "      <td>walking</td>\n",
              "      <td>0.047956</td>\n",
              "      <td>-0.145584</td>\n",
              "      <td>-0.834686</td>\n",
              "      <td>-0.570267</td>\n",
              "      <td>1.021</td>\n",
              "    </tr>\n",
              "    <tr>\n",
              "      <th>...</th>\n",
              "      <td>...</td>\n",
              "      <td>...</td>\n",
              "      <td>...</td>\n",
              "      <td>...</td>\n",
              "      <td>...</td>\n",
              "      <td>...</td>\n",
              "    </tr>\n",
              "    <tr>\n",
              "      <th>74300</th>\n",
              "      <td>walking</td>\n",
              "      <td>740.537377</td>\n",
              "      <td>0.061050</td>\n",
              "      <td>-0.796814</td>\n",
              "      <td>-0.756821</td>\n",
              "      <td>1.101</td>\n",
              "    </tr>\n",
              "    <tr>\n",
              "      <th>74301</th>\n",
              "      <td>walking</td>\n",
              "      <td>740.547404</td>\n",
              "      <td>0.059708</td>\n",
              "      <td>-0.827240</td>\n",
              "      <td>-0.751831</td>\n",
              "      <td>1.119</td>\n",
              "    </tr>\n",
              "    <tr>\n",
              "      <th>74302</th>\n",
              "      <td>walking</td>\n",
              "      <td>740.557299</td>\n",
              "      <td>0.056305</td>\n",
              "      <td>-0.862640</td>\n",
              "      <td>-0.744583</td>\n",
              "      <td>1.141</td>\n",
              "    </tr>\n",
              "    <tr>\n",
              "      <th>74303</th>\n",
              "      <td>walking</td>\n",
              "      <td>740.567334</td>\n",
              "      <td>0.044540</td>\n",
              "      <td>-0.891907</td>\n",
              "      <td>-0.734299</td>\n",
              "      <td>1.156</td>\n",
              "    </tr>\n",
              "    <tr>\n",
              "      <th>74304</th>\n",
              "      <td>walking</td>\n",
              "      <td>740.579200</td>\n",
              "      <td>0.027893</td>\n",
              "      <td>-0.907761</td>\n",
              "      <td>-0.733963</td>\n",
              "      <td>1.168</td>\n",
              "    </tr>\n",
              "  </tbody>\n",
              "</table>\n",
              "<p>74305 rows × 6 columns</p>\n",
              "</div>\n",
              "      <button class=\"colab-df-convert\" onclick=\"convertToInteractive('df-27eb5018-44c0-4efd-8b23-a277335144fc')\"\n",
              "              title=\"Convert this dataframe to an interactive table.\"\n",
              "              style=\"display:none;\">\n",
              "        \n",
              "  <svg xmlns=\"http://www.w3.org/2000/svg\" height=\"24px\"viewBox=\"0 0 24 24\"\n",
              "       width=\"24px\">\n",
              "    <path d=\"M0 0h24v24H0V0z\" fill=\"none\"/>\n",
              "    <path d=\"M18.56 5.44l.94 2.06.94-2.06 2.06-.94-2.06-.94-.94-2.06-.94 2.06-2.06.94zm-11 1L8.5 8.5l.94-2.06 2.06-.94-2.06-.94L8.5 2.5l-.94 2.06-2.06.94zm10 10l.94 2.06.94-2.06 2.06-.94-2.06-.94-.94-2.06-.94 2.06-2.06.94z\"/><path d=\"M17.41 7.96l-1.37-1.37c-.4-.4-.92-.59-1.43-.59-.52 0-1.04.2-1.43.59L10.3 9.45l-7.72 7.72c-.78.78-.78 2.05 0 2.83L4 21.41c.39.39.9.59 1.41.59.51 0 1.02-.2 1.41-.59l7.78-7.78 2.81-2.81c.8-.78.8-2.07 0-2.86zM5.41 20L4 18.59l7.72-7.72 1.47 1.35L5.41 20z\"/>\n",
              "  </svg>\n",
              "      </button>\n",
              "      \n",
              "  <style>\n",
              "    .colab-df-container {\n",
              "      display:flex;\n",
              "      flex-wrap:wrap;\n",
              "      gap: 12px;\n",
              "    }\n",
              "\n",
              "    .colab-df-convert {\n",
              "      background-color: #E8F0FE;\n",
              "      border: none;\n",
              "      border-radius: 50%;\n",
              "      cursor: pointer;\n",
              "      display: none;\n",
              "      fill: #1967D2;\n",
              "      height: 32px;\n",
              "      padding: 0 0 0 0;\n",
              "      width: 32px;\n",
              "    }\n",
              "\n",
              "    .colab-df-convert:hover {\n",
              "      background-color: #E2EBFA;\n",
              "      box-shadow: 0px 1px 2px rgba(60, 64, 67, 0.3), 0px 1px 3px 1px rgba(60, 64, 67, 0.15);\n",
              "      fill: #174EA6;\n",
              "    }\n",
              "\n",
              "    [theme=dark] .colab-df-convert {\n",
              "      background-color: #3B4455;\n",
              "      fill: #D2E3FC;\n",
              "    }\n",
              "\n",
              "    [theme=dark] .colab-df-convert:hover {\n",
              "      background-color: #434B5C;\n",
              "      box-shadow: 0px 1px 3px 1px rgba(0, 0, 0, 0.15);\n",
              "      filter: drop-shadow(0px 1px 2px rgba(0, 0, 0, 0.3));\n",
              "      fill: #FFFFFF;\n",
              "    }\n",
              "  </style>\n",
              "\n",
              "      <script>\n",
              "        const buttonEl =\n",
              "          document.querySelector('#df-27eb5018-44c0-4efd-8b23-a277335144fc button.colab-df-convert');\n",
              "        buttonEl.style.display =\n",
              "          google.colab.kernel.accessAllowed ? 'block' : 'none';\n",
              "\n",
              "        async function convertToInteractive(key) {\n",
              "          const element = document.querySelector('#df-27eb5018-44c0-4efd-8b23-a277335144fc');\n",
              "          const dataTable =\n",
              "            await google.colab.kernel.invokeFunction('convertToInteractive',\n",
              "                                                     [key], {});\n",
              "          if (!dataTable) return;\n",
              "\n",
              "          const docLinkHtml = 'Like what you see? Visit the ' +\n",
              "            '<a target=\"_blank\" href=https://colab.research.google.com/notebooks/data_table.ipynb>data table notebook</a>'\n",
              "            + ' to learn more about interactive tables.';\n",
              "          element.innerHTML = '';\n",
              "          dataTable['output_type'] = 'display_data';\n",
              "          await google.colab.output.renderOutput(dataTable, element);\n",
              "          const docLink = document.createElement('div');\n",
              "          docLink.innerHTML = docLinkHtml;\n",
              "          element.appendChild(docLink);\n",
              "        }\n",
              "      </script>\n",
              "    </div>\n",
              "  </div>\n",
              "  "
            ]
          },
          "metadata": {},
          "execution_count": 11
        }
      ],
      "source": [
        "walking"
      ]
    },
    {
      "cell_type": "code",
      "execution_count": null,
      "metadata": {
        "colab": {
          "base_uri": "https://localhost:8080/",
          "height": 424
        },
        "id": "3lLQajvRwSDs",
        "outputId": "57febb78-b359-4f13-f3bd-38e75023d53f"
      },
      "outputs": [
        {
          "output_type": "execute_result",
          "data": {
            "text/plain": [
              "      activity        time       gFx       gFy       gFz  gFTotal\n",
              "0      sitting    0.008171  0.038284 -0.406204 -0.837601    0.932\n",
              "1      sitting    0.012029  0.021240 -0.391968 -0.799347    0.891\n",
              "2      sitting    0.022431 -0.003479 -0.409805 -0.871857    0.963\n",
              "3      sitting    0.032109  0.000992 -0.422150 -0.919724    1.012\n",
              "4      sitting    0.043274  0.035660 -0.411850 -0.920349    1.009\n",
              "...        ...         ...       ...       ...       ...      ...\n",
              "27844  sitting  277.543395 -0.193604 -0.317322 -0.972015    1.041\n",
              "27845  sitting  277.553907 -0.182327 -0.311172 -0.981766    1.046\n",
              "27846  sitting  277.562589 -0.175552 -0.300262 -0.963791    1.025\n",
              "27847  sitting  277.571349 -0.182007 -0.280548 -0.908310    0.968\n",
              "27848  sitting  277.580963 -0.205902 -0.275864 -0.892136    0.956\n",
              "\n",
              "[27849 rows x 6 columns]"
            ],
            "text/html": [
              "\n",
              "  <div id=\"df-5aec1afa-2931-4b7c-9688-581cc535da2f\">\n",
              "    <div class=\"colab-df-container\">\n",
              "      <div>\n",
              "<style scoped>\n",
              "    .dataframe tbody tr th:only-of-type {\n",
              "        vertical-align: middle;\n",
              "    }\n",
              "\n",
              "    .dataframe tbody tr th {\n",
              "        vertical-align: top;\n",
              "    }\n",
              "\n",
              "    .dataframe thead th {\n",
              "        text-align: right;\n",
              "    }\n",
              "</style>\n",
              "<table border=\"1\" class=\"dataframe\">\n",
              "  <thead>\n",
              "    <tr style=\"text-align: right;\">\n",
              "      <th></th>\n",
              "      <th>activity</th>\n",
              "      <th>time</th>\n",
              "      <th>gFx</th>\n",
              "      <th>gFy</th>\n",
              "      <th>gFz</th>\n",
              "      <th>gFTotal</th>\n",
              "    </tr>\n",
              "  </thead>\n",
              "  <tbody>\n",
              "    <tr>\n",
              "      <th>0</th>\n",
              "      <td>sitting</td>\n",
              "      <td>0.008171</td>\n",
              "      <td>0.038284</td>\n",
              "      <td>-0.406204</td>\n",
              "      <td>-0.837601</td>\n",
              "      <td>0.932</td>\n",
              "    </tr>\n",
              "    <tr>\n",
              "      <th>1</th>\n",
              "      <td>sitting</td>\n",
              "      <td>0.012029</td>\n",
              "      <td>0.021240</td>\n",
              "      <td>-0.391968</td>\n",
              "      <td>-0.799347</td>\n",
              "      <td>0.891</td>\n",
              "    </tr>\n",
              "    <tr>\n",
              "      <th>2</th>\n",
              "      <td>sitting</td>\n",
              "      <td>0.022431</td>\n",
              "      <td>-0.003479</td>\n",
              "      <td>-0.409805</td>\n",
              "      <td>-0.871857</td>\n",
              "      <td>0.963</td>\n",
              "    </tr>\n",
              "    <tr>\n",
              "      <th>3</th>\n",
              "      <td>sitting</td>\n",
              "      <td>0.032109</td>\n",
              "      <td>0.000992</td>\n",
              "      <td>-0.422150</td>\n",
              "      <td>-0.919724</td>\n",
              "      <td>1.012</td>\n",
              "    </tr>\n",
              "    <tr>\n",
              "      <th>4</th>\n",
              "      <td>sitting</td>\n",
              "      <td>0.043274</td>\n",
              "      <td>0.035660</td>\n",
              "      <td>-0.411850</td>\n",
              "      <td>-0.920349</td>\n",
              "      <td>1.009</td>\n",
              "    </tr>\n",
              "    <tr>\n",
              "      <th>...</th>\n",
              "      <td>...</td>\n",
              "      <td>...</td>\n",
              "      <td>...</td>\n",
              "      <td>...</td>\n",
              "      <td>...</td>\n",
              "      <td>...</td>\n",
              "    </tr>\n",
              "    <tr>\n",
              "      <th>27844</th>\n",
              "      <td>sitting</td>\n",
              "      <td>277.543395</td>\n",
              "      <td>-0.193604</td>\n",
              "      <td>-0.317322</td>\n",
              "      <td>-0.972015</td>\n",
              "      <td>1.041</td>\n",
              "    </tr>\n",
              "    <tr>\n",
              "      <th>27845</th>\n",
              "      <td>sitting</td>\n",
              "      <td>277.553907</td>\n",
              "      <td>-0.182327</td>\n",
              "      <td>-0.311172</td>\n",
              "      <td>-0.981766</td>\n",
              "      <td>1.046</td>\n",
              "    </tr>\n",
              "    <tr>\n",
              "      <th>27846</th>\n",
              "      <td>sitting</td>\n",
              "      <td>277.562589</td>\n",
              "      <td>-0.175552</td>\n",
              "      <td>-0.300262</td>\n",
              "      <td>-0.963791</td>\n",
              "      <td>1.025</td>\n",
              "    </tr>\n",
              "    <tr>\n",
              "      <th>27847</th>\n",
              "      <td>sitting</td>\n",
              "      <td>277.571349</td>\n",
              "      <td>-0.182007</td>\n",
              "      <td>-0.280548</td>\n",
              "      <td>-0.908310</td>\n",
              "      <td>0.968</td>\n",
              "    </tr>\n",
              "    <tr>\n",
              "      <th>27848</th>\n",
              "      <td>sitting</td>\n",
              "      <td>277.580963</td>\n",
              "      <td>-0.205902</td>\n",
              "      <td>-0.275864</td>\n",
              "      <td>-0.892136</td>\n",
              "      <td>0.956</td>\n",
              "    </tr>\n",
              "  </tbody>\n",
              "</table>\n",
              "<p>27849 rows × 6 columns</p>\n",
              "</div>\n",
              "      <button class=\"colab-df-convert\" onclick=\"convertToInteractive('df-5aec1afa-2931-4b7c-9688-581cc535da2f')\"\n",
              "              title=\"Convert this dataframe to an interactive table.\"\n",
              "              style=\"display:none;\">\n",
              "        \n",
              "  <svg xmlns=\"http://www.w3.org/2000/svg\" height=\"24px\"viewBox=\"0 0 24 24\"\n",
              "       width=\"24px\">\n",
              "    <path d=\"M0 0h24v24H0V0z\" fill=\"none\"/>\n",
              "    <path d=\"M18.56 5.44l.94 2.06.94-2.06 2.06-.94-2.06-.94-.94-2.06-.94 2.06-2.06.94zm-11 1L8.5 8.5l.94-2.06 2.06-.94-2.06-.94L8.5 2.5l-.94 2.06-2.06.94zm10 10l.94 2.06.94-2.06 2.06-.94-2.06-.94-.94-2.06-.94 2.06-2.06.94z\"/><path d=\"M17.41 7.96l-1.37-1.37c-.4-.4-.92-.59-1.43-.59-.52 0-1.04.2-1.43.59L10.3 9.45l-7.72 7.72c-.78.78-.78 2.05 0 2.83L4 21.41c.39.39.9.59 1.41.59.51 0 1.02-.2 1.41-.59l7.78-7.78 2.81-2.81c.8-.78.8-2.07 0-2.86zM5.41 20L4 18.59l7.72-7.72 1.47 1.35L5.41 20z\"/>\n",
              "  </svg>\n",
              "      </button>\n",
              "      \n",
              "  <style>\n",
              "    .colab-df-container {\n",
              "      display:flex;\n",
              "      flex-wrap:wrap;\n",
              "      gap: 12px;\n",
              "    }\n",
              "\n",
              "    .colab-df-convert {\n",
              "      background-color: #E8F0FE;\n",
              "      border: none;\n",
              "      border-radius: 50%;\n",
              "      cursor: pointer;\n",
              "      display: none;\n",
              "      fill: #1967D2;\n",
              "      height: 32px;\n",
              "      padding: 0 0 0 0;\n",
              "      width: 32px;\n",
              "    }\n",
              "\n",
              "    .colab-df-convert:hover {\n",
              "      background-color: #E2EBFA;\n",
              "      box-shadow: 0px 1px 2px rgba(60, 64, 67, 0.3), 0px 1px 3px 1px rgba(60, 64, 67, 0.15);\n",
              "      fill: #174EA6;\n",
              "    }\n",
              "\n",
              "    [theme=dark] .colab-df-convert {\n",
              "      background-color: #3B4455;\n",
              "      fill: #D2E3FC;\n",
              "    }\n",
              "\n",
              "    [theme=dark] .colab-df-convert:hover {\n",
              "      background-color: #434B5C;\n",
              "      box-shadow: 0px 1px 3px 1px rgba(0, 0, 0, 0.15);\n",
              "      filter: drop-shadow(0px 1px 2px rgba(0, 0, 0, 0.3));\n",
              "      fill: #FFFFFF;\n",
              "    }\n",
              "  </style>\n",
              "\n",
              "      <script>\n",
              "        const buttonEl =\n",
              "          document.querySelector('#df-5aec1afa-2931-4b7c-9688-581cc535da2f button.colab-df-convert');\n",
              "        buttonEl.style.display =\n",
              "          google.colab.kernel.accessAllowed ? 'block' : 'none';\n",
              "\n",
              "        async function convertToInteractive(key) {\n",
              "          const element = document.querySelector('#df-5aec1afa-2931-4b7c-9688-581cc535da2f');\n",
              "          const dataTable =\n",
              "            await google.colab.kernel.invokeFunction('convertToInteractive',\n",
              "                                                     [key], {});\n",
              "          if (!dataTable) return;\n",
              "\n",
              "          const docLinkHtml = 'Like what you see? Visit the ' +\n",
              "            '<a target=\"_blank\" href=https://colab.research.google.com/notebooks/data_table.ipynb>data table notebook</a>'\n",
              "            + ' to learn more about interactive tables.';\n",
              "          element.innerHTML = '';\n",
              "          dataTable['output_type'] = 'display_data';\n",
              "          await google.colab.output.renderOutput(dataTable, element);\n",
              "          const docLink = document.createElement('div');\n",
              "          docLink.innerHTML = docLinkHtml;\n",
              "          element.appendChild(docLink);\n",
              "        }\n",
              "      </script>\n",
              "    </div>\n",
              "  </div>\n",
              "  "
            ]
          },
          "metadata": {},
          "execution_count": 12
        }
      ],
      "source": [
        "sitting"
      ]
    },
    {
      "cell_type": "markdown",
      "source": [
        "# 데이터 모음 (위 3개 모음)"
      ],
      "metadata": {
        "id": "5ZXYHsJhG6w7"
      }
    },
    {
      "cell_type": "code",
      "execution_count": null,
      "metadata": {
        "id": "rtsKaXHMwSDt"
      },
      "outputs": [],
      "source": [
        "result_1 = walking.append(jogging)\n",
        "result= result_1.append(sitting)\n",
        "result = result.drop(['gFTotal'],axis=1)"
      ]
    },
    {
      "cell_type": "code",
      "execution_count": null,
      "metadata": {
        "colab": {
          "base_uri": "https://localhost:8080/"
        },
        "id": "Ik1DxAqtwSDt",
        "outputId": "a190bb21-e6ab-479e-dee8-4a75e4e3f865"
      },
      "outputs": [
        {
          "output_type": "execute_result",
          "data": {
            "text/plain": [
              "array(['walking', 'jogging', 'sitting'], dtype=object)"
            ]
          },
          "metadata": {},
          "execution_count": 14
        }
      ],
      "source": [
        "result['activity'].unique()"
      ]
    },
    {
      "cell_type": "code",
      "execution_count": null,
      "metadata": {
        "id": "_1sCQKknwSDt",
        "colab": {
          "base_uri": "https://localhost:8080/"
        },
        "outputId": "6fe19a32-367f-4682-ab3a-c3b70c46af90"
      },
      "outputs": [
        {
          "output_type": "execute_result",
          "data": {
            "text/plain": [
              "walking    74305\n",
              "jogging    37225\n",
              "sitting    27849\n",
              "Name: activity, dtype: int64"
            ]
          },
          "metadata": {},
          "execution_count": 15
        }
      ],
      "source": [
        "result['activity'].value_counts()"
      ]
    },
    {
      "cell_type": "code",
      "source": [
        "result['gFx']=result['gFx'].astype('float')\n",
        "result['gFy']=result['gFy'].astype('float')\n",
        "result['gFz']=result['gFz'].astype('float')"
      ],
      "metadata": {
        "id": "wIXhyeyZw2x7"
      },
      "execution_count": null,
      "outputs": []
    },
    {
      "cell_type": "code",
      "source": [
        "result.info()"
      ],
      "metadata": {
        "colab": {
          "base_uri": "https://localhost:8080/"
        },
        "id": "XR71X3lKw22i",
        "outputId": "7045e5b0-2cb2-4985-f8b3-c851f29d18ac"
      },
      "execution_count": null,
      "outputs": [
        {
          "output_type": "stream",
          "name": "stdout",
          "text": [
            "<class 'pandas.core.frame.DataFrame'>\n",
            "Int64Index: 139379 entries, 0 to 27848\n",
            "Data columns (total 5 columns):\n",
            " #   Column    Non-Null Count   Dtype  \n",
            "---  ------    --------------   -----  \n",
            " 0   activity  139379 non-null  object \n",
            " 1   time      139379 non-null  float64\n",
            " 2   gFx       139379 non-null  float64\n",
            " 3   gFy       139379 non-null  float64\n",
            " 4   gFz       139379 non-null  float64\n",
            "dtypes: float64(4), object(1)\n",
            "memory usage: 6.4+ MB\n"
          ]
        }
      ]
    },
    {
      "cell_type": "code",
      "source": [
        "activities = result['activity'].value_counts().index"
      ],
      "metadata": {
        "id": "nzbl8v8zw25J"
      },
      "execution_count": null,
      "outputs": []
    },
    {
      "cell_type": "code",
      "source": [
        "activities"
      ],
      "metadata": {
        "colab": {
          "base_uri": "https://localhost:8080/"
        },
        "id": "h25aMmbvw27J",
        "outputId": "6579fc4e-9af8-4897-f5b4-59a831bc7e62"
      },
      "execution_count": null,
      "outputs": [
        {
          "output_type": "execute_result",
          "data": {
            "text/plain": [
              "Index(['walking', 'jogging', 'sitting'], dtype='object')"
            ]
          },
          "metadata": {},
          "execution_count": 19
        }
      ]
    },
    {
      "cell_type": "code",
      "source": [
        "Fs=100\n",
        "def plot_activity(activity, data):\n",
        "    fig, (ax0, ax1, ax2) = plt.subplots(nrows=3, figsize=(15, 7), sharex=True) # x축을 공유하겠다는 뜻\n",
        "    plot_axis(ax0, result['time'], result['gFx'], 'X-Axis')\n",
        "    plot_axis(ax1, result['time'], result['gFy'], 'Y-Axis')\n",
        "    plot_axis(ax2, result['time'], result['gFz'], 'Z-Axis')\n",
        "    plt.subplots_adjust(hspace=0.2)\n",
        "    fig.suptitle(activity)\n",
        "    plt.subplots_adjust(top=0.90)\n",
        "    plt.show()\n",
        "    \n",
        "def plot_axis(ax, x, y, title):\n",
        "    ax.plot(x, y, 'g')\n",
        "    ax.set_title(title)\n",
        "    ax.xaxis.set_visible(False)\n",
        "    ax.set_ylim([min(y) - np.std(y), max(y) + np.std(y)])\n",
        "    ax.set_xlim([min(x), max(x)])\n",
        "    ax.grid(True)\n",
        "    \n",
        "for activity in activities:\n",
        "    data_for_plot = result[(result['activity'] == activity)][:Fs*10] # 10초정도에 해당하는 데이터를 그리시오\n",
        "    plot_activity(activity, data_for_plot)  "
      ],
      "metadata": {
        "colab": {
          "base_uri": "https://localhost:8080/",
          "height": 1000
        },
        "id": "NNOD7QtCw29Z",
        "outputId": "a00491c3-5db0-4480-8409-6c48a904f5c0"
      },
      "execution_count": null,
      "outputs": [
        {
          "output_type": "display_data",
          "data": {
            "text/plain": [
              "<Figure size 1080x504 with 3 Axes>"
            ],
            "image/png": "[encoded data removed]"
          },
          "metadata": {
            "needs_background": "light"
          }
        },
        {
          "output_type": "display_data",
          "data": {
            "text/plain": [
              "<Figure size 1080x504 with 3 Axes>"
            ],
            "image/png": "[encoded data removed]"
          },
          "metadata": {
            "needs_background": "light"
          }
        },
        {
          "output_type": "display_data",
          "data": {
            "text/plain": [
              "<Figure size 1080x504 with 3 Axes>"
            ],
            "image/png": "[encoded data removed]"
          },
          "metadata": {
            "needs_background": "light"
          }
        }
      ]
    },
    {
      "cell_type": "code",
      "source": [],
      "metadata": {
        "id": "NDb6qfPCo9mc"
      },
      "execution_count": null,
      "outputs": []
    },
    {
      "cell_type": "code",
      "source": [],
      "metadata": {
        "id": "9gjr2-w3o9pB"
      },
      "execution_count": null,
      "outputs": []
    },
    {
      "cell_type": "code",
      "source": [],
      "metadata": {
        "id": "l-I3zDNVo9rS"
      },
      "execution_count": null,
      "outputs": []
    },
    {
      "cell_type": "code",
      "source": [
        "walking = result[result['activity']=='walking'].head(27849).copy()\n",
        "jogging  = result[result['activity']=='jogging'].head(27849).copy()\n",
        "sitting = result[result['activity']=='sitting'].head(27849).copy()"
      ],
      "metadata": {
        "id": "MmtZBjsIxXjZ"
      },
      "execution_count": null,
      "outputs": []
    },
    {
      "cell_type": "code",
      "source": [
        "walking.head(5)"
      ],
      "metadata": {
        "colab": {
          "base_uri": "https://localhost:8080/",
          "height": 206
        },
        "id": "shVtRtl9xXlx",
        "outputId": "0f9e6ea1-7339-4a75-90e9-0be5c697e4d2"
      },
      "execution_count": null,
      "outputs": [
        {
          "output_type": "execute_result",
          "data": {
            "text/plain": [
              "  activity      time       gFx       gFy       gFz\n",
              "0  walking  0.008431 -0.119949 -0.858963 -0.561295\n",
              "1  walking  0.017661 -0.144073 -0.868179 -0.569443\n",
              "2  walking  0.027832 -0.150024 -0.857712 -0.574188\n",
              "3  walking  0.037942 -0.154800 -0.847992 -0.573059\n",
              "4  walking  0.047956 -0.145584 -0.834686 -0.570267"
            ],
            "text/html": [
              "\n",
              "  <div id=\"df-5f4416e5-79ec-4b56-9fea-564e354453f7\">\n",
              "    <div class=\"colab-df-container\">\n",
              "      <div>\n",
              "<style scoped>\n",
              "    .dataframe tbody tr th:only-of-type {\n",
              "        vertical-align: middle;\n",
              "    }\n",
              "\n",
              "    .dataframe tbody tr th {\n",
              "        vertical-align: top;\n",
              "    }\n",
              "\n",
              "    .dataframe thead th {\n",
              "        text-align: right;\n",
              "    }\n",
              "</style>\n",
              "<table border=\"1\" class=\"dataframe\">\n",
              "  <thead>\n",
              "    <tr style=\"text-align: right;\">\n",
              "      <th></th>\n",
              "      <th>activity</th>\n",
              "      <th>time</th>\n",
              "      <th>gFx</th>\n",
              "      <th>gFy</th>\n",
              "      <th>gFz</th>\n",
              "    </tr>\n",
              "  </thead>\n",
              "  <tbody>\n",
              "    <tr>\n",
              "      <th>0</th>\n",
              "      <td>walking</td>\n",
              "      <td>0.008431</td>\n",
              "      <td>-0.119949</td>\n",
              "      <td>-0.858963</td>\n",
              "      <td>-0.561295</td>\n",
              "    </tr>\n",
              "    <tr>\n",
              "      <th>1</th>\n",
              "      <td>walking</td>\n",
              "      <td>0.017661</td>\n",
              "      <td>-0.144073</td>\n",
              "      <td>-0.868179</td>\n",
              "      <td>-0.569443</td>\n",
              "    </tr>\n",
              "    <tr>\n",
              "      <th>2</th>\n",
              "      <td>walking</td>\n",
              "      <td>0.027832</td>\n",
              "      <td>-0.150024</td>\n",
              "      <td>-0.857712</td>\n",
              "      <td>-0.574188</td>\n",
              "    </tr>\n",
              "    <tr>\n",
              "      <th>3</th>\n",
              "      <td>walking</td>\n",
              "      <td>0.037942</td>\n",
              "      <td>-0.154800</td>\n",
              "      <td>-0.847992</td>\n",
              "      <td>-0.573059</td>\n",
              "    </tr>\n",
              "    <tr>\n",
              "      <th>4</th>\n",
              "      <td>walking</td>\n",
              "      <td>0.047956</td>\n",
              "      <td>-0.145584</td>\n",
              "      <td>-0.834686</td>\n",
              "      <td>-0.570267</td>\n",
              "    </tr>\n",
              "  </tbody>\n",
              "</table>\n",
              "</div>\n",
              "      <button class=\"colab-df-convert\" onclick=\"convertToInteractive('df-5f4416e5-79ec-4b56-9fea-564e354453f7')\"\n",
              "              title=\"Convert this dataframe to an interactive table.\"\n",
              "              style=\"display:none;\">\n",
              "        \n",
              "  <svg xmlns=\"http://www.w3.org/2000/svg\" height=\"24px\"viewBox=\"0 0 24 24\"\n",
              "       width=\"24px\">\n",
              "    <path d=\"M0 0h24v24H0V0z\" fill=\"none\"/>\n",
              "    <path d=\"M18.56 5.44l.94 2.06.94-2.06 2.06-.94-2.06-.94-.94-2.06-.94 2.06-2.06.94zm-11 1L8.5 8.5l.94-2.06 2.06-.94-2.06-.94L8.5 2.5l-.94 2.06-2.06.94zm10 10l.94 2.06.94-2.06 2.06-.94-2.06-.94-.94-2.06-.94 2.06-2.06.94z\"/><path d=\"M17.41 7.96l-1.37-1.37c-.4-.4-.92-.59-1.43-.59-.52 0-1.04.2-1.43.59L10.3 9.45l-7.72 7.72c-.78.78-.78 2.05 0 2.83L4 21.41c.39.39.9.59 1.41.59.51 0 1.02-.2 1.41-.59l7.78-7.78 2.81-2.81c.8-.78.8-2.07 0-2.86zM5.41 20L4 18.59l7.72-7.72 1.47 1.35L5.41 20z\"/>\n",
              "  </svg>\n",
              "      </button>\n",
              "      \n",
              "  <style>\n",
              "    .colab-df-container {\n",
              "      display:flex;\n",
              "      flex-wrap:wrap;\n",
              "      gap: 12px;\n",
              "    }\n",
              "\n",
              "    .colab-df-convert {\n",
              "      background-color: #E8F0FE;\n",
              "      border: none;\n",
              "      border-radius: 50%;\n",
              "      cursor: pointer;\n",
              "      display: none;\n",
              "      fill: #1967D2;\n",
              "      height: 32px;\n",
              "      padding: 0 0 0 0;\n",
              "      width: 32px;\n",
              "    }\n",
              "\n",
              "    .colab-df-convert:hover {\n",
              "      background-color: #E2EBFA;\n",
              "      box-shadow: 0px 1px 2px rgba(60, 64, 67, 0.3), 0px 1px 3px 1px rgba(60, 64, 67, 0.15);\n",
              "      fill: #174EA6;\n",
              "    }\n",
              "\n",
              "    [theme=dark] .colab-df-convert {\n",
              "      background-color: #3B4455;\n",
              "      fill: #D2E3FC;\n",
              "    }\n",
              "\n",
              "    [theme=dark] .colab-df-convert:hover {\n",
              "      background-color: #434B5C;\n",
              "      box-shadow: 0px 1px 3px 1px rgba(0, 0, 0, 0.15);\n",
              "      filter: drop-shadow(0px 1px 2px rgba(0, 0, 0, 0.3));\n",
              "      fill: #FFFFFF;\n",
              "    }\n",
              "  </style>\n",
              "\n",
              "      <script>\n",
              "        const buttonEl =\n",
              "          document.querySelector('#df-5f4416e5-79ec-4b56-9fea-564e354453f7 button.colab-df-convert');\n",
              "        buttonEl.style.display =\n",
              "          google.colab.kernel.accessAllowed ? 'block' : 'none';\n",
              "\n",
              "        async function convertToInteractive(key) {\n",
              "          const element = document.querySelector('#df-5f4416e5-79ec-4b56-9fea-564e354453f7');\n",
              "          const dataTable =\n",
              "            await google.colab.kernel.invokeFunction('convertToInteractive',\n",
              "                                                     [key], {});\n",
              "          if (!dataTable) return;\n",
              "\n",
              "          const docLinkHtml = 'Like what you see? Visit the ' +\n",
              "            '<a target=\"_blank\" href=https://colab.research.google.com/notebooks/data_table.ipynb>data table notebook</a>'\n",
              "            + ' to learn more about interactive tables.';\n",
              "          element.innerHTML = '';\n",
              "          dataTable['output_type'] = 'display_data';\n",
              "          await google.colab.output.renderOutput(dataTable, element);\n",
              "          const docLink = document.createElement('div');\n",
              "          docLink.innerHTML = docLinkHtml;\n",
              "          element.appendChild(docLink);\n",
              "        }\n",
              "      </script>\n",
              "    </div>\n",
              "  </div>\n",
              "  "
            ]
          },
          "metadata": {},
          "execution_count": 22
        }
      ]
    },
    {
      "cell_type": "code",
      "execution_count": null,
      "metadata": {
        "id": "zprR8k8wwSDt"
      },
      "outputs": [],
      "source": [
        "balanced_data=pd.DataFrame()\n",
        "balanced_data=balanced_data.append([walking, jogging,sitting])"
      ]
    },
    {
      "cell_type": "code",
      "source": [
        "balanced_data"
      ],
      "metadata": {
        "colab": {
          "base_uri": "https://localhost:8080/",
          "height": 424
        },
        "id": "EhHXrk842UsF",
        "outputId": "8c8a0f60-fb38-44b5-b5ad-08e6439c4901"
      },
      "execution_count": null,
      "outputs": [
        {
          "output_type": "execute_result",
          "data": {
            "text/plain": [
              "      activity        time       gFx       gFy       gFz\n",
              "0      walking    0.008431 -0.119949 -0.858963 -0.561295\n",
              "1      walking    0.017661 -0.144073 -0.868179 -0.569443\n",
              "2      walking    0.027832 -0.150024 -0.857712 -0.574188\n",
              "3      walking    0.037942 -0.154800 -0.847992 -0.573059\n",
              "4      walking    0.047956 -0.145584 -0.834686 -0.570267\n",
              "...        ...         ...       ...       ...       ...\n",
              "27844  sitting  277.543395 -0.193604 -0.317322 -0.972015\n",
              "27845  sitting  277.553907 -0.182327 -0.311172 -0.981766\n",
              "27846  sitting  277.562589 -0.175552 -0.300262 -0.963791\n",
              "27847  sitting  277.571349 -0.182007 -0.280548 -0.908310\n",
              "27848  sitting  277.580963 -0.205902 -0.275864 -0.892136\n",
              "\n",
              "[83547 rows x 5 columns]"
            ],
            "text/html": [
              "\n",
              "  <div id=\"df-bb691c28-2780-4c8a-923b-02682ab49287\">\n",
              "    <div class=\"colab-df-container\">\n",
              "      <div>\n",
              "<style scoped>\n",
              "    .dataframe tbody tr th:only-of-type {\n",
              "        vertical-align: middle;\n",
              "    }\n",
              "\n",
              "    .dataframe tbody tr th {\n",
              "        vertical-align: top;\n",
              "    }\n",
              "\n",
              "    .dataframe thead th {\n",
              "        text-align: right;\n",
              "    }\n",
              "</style>\n",
              "<table border=\"1\" class=\"dataframe\">\n",
              "  <thead>\n",
              "    <tr style=\"text-align: right;\">\n",
              "      <th></th>\n",
              "      <th>activity</th>\n",
              "      <th>time</th>\n",
              "      <th>gFx</th>\n",
              "      <th>gFy</th>\n",
              "      <th>gFz</th>\n",
              "    </tr>\n",
              "  </thead>\n",
              "  <tbody>\n",
              "    <tr>\n",
              "      <th>0</th>\n",
              "      <td>walking</td>\n",
              "      <td>0.008431</td>\n",
              "      <td>-0.119949</td>\n",
              "      <td>-0.858963</td>\n",
              "      <td>-0.561295</td>\n",
              "    </tr>\n",
              "    <tr>\n",
              "      <th>1</th>\n",
              "      <td>walking</td>\n",
              "      <td>0.017661</td>\n",
              "      <td>-0.144073</td>\n",
              "      <td>-0.868179</td>\n",
              "      <td>-0.569443</td>\n",
              "    </tr>\n",
              "    <tr>\n",
              "      <th>2</th>\n",
              "      <td>walking</td>\n",
              "      <td>0.027832</td>\n",
              "      <td>-0.150024</td>\n",
              "      <td>-0.857712</td>\n",
              "      <td>-0.574188</td>\n",
              "    </tr>\n",
              "    <tr>\n",
              "      <th>3</th>\n",
              "      <td>walking</td>\n",
              "      <td>0.037942</td>\n",
              "      <td>-0.154800</td>\n",
              "      <td>-0.847992</td>\n",
              "      <td>-0.573059</td>\n",
              "    </tr>\n",
              "    <tr>\n",
              "      <th>4</th>\n",
              "      <td>walking</td>\n",
              "      <td>0.047956</td>\n",
              "      <td>-0.145584</td>\n",
              "      <td>-0.834686</td>\n",
              "      <td>-0.570267</td>\n",
              "    </tr>\n",
              "    <tr>\n",
              "      <th>...</th>\n",
              "      <td>...</td>\n",
              "      <td>...</td>\n",
              "      <td>...</td>\n",
              "      <td>...</td>\n",
              "      <td>...</td>\n",
              "    </tr>\n",
              "    <tr>\n",
              "      <th>27844</th>\n",
              "      <td>sitting</td>\n",
              "      <td>277.543395</td>\n",
              "      <td>-0.193604</td>\n",
              "      <td>-0.317322</td>\n",
              "      <td>-0.972015</td>\n",
              "    </tr>\n",
              "    <tr>\n",
              "      <th>27845</th>\n",
              "      <td>sitting</td>\n",
              "      <td>277.553907</td>\n",
              "      <td>-0.182327</td>\n",
              "      <td>-0.311172</td>\n",
              "      <td>-0.981766</td>\n",
              "    </tr>\n",
              "    <tr>\n",
              "      <th>27846</th>\n",
              "      <td>sitting</td>\n",
              "      <td>277.562589</td>\n",
              "      <td>-0.175552</td>\n",
              "      <td>-0.300262</td>\n",
              "      <td>-0.963791</td>\n",
              "    </tr>\n",
              "    <tr>\n",
              "      <th>27847</th>\n",
              "      <td>sitting</td>\n",
              "      <td>277.571349</td>\n",
              "      <td>-0.182007</td>\n",
              "      <td>-0.280548</td>\n",
              "      <td>-0.908310</td>\n",
              "    </tr>\n",
              "    <tr>\n",
              "      <th>27848</th>\n",
              "      <td>sitting</td>\n",
              "      <td>277.580963</td>\n",
              "      <td>-0.205902</td>\n",
              "      <td>-0.275864</td>\n",
              "      <td>-0.892136</td>\n",
              "    </tr>\n",
              "  </tbody>\n",
              "</table>\n",
              "<p>83547 rows × 5 columns</p>\n",
              "</div>\n",
              "      <button class=\"colab-df-convert\" onclick=\"convertToInteractive('df-bb691c28-2780-4c8a-923b-02682ab49287')\"\n",
              "              title=\"Convert this dataframe to an interactive table.\"\n",
              "              style=\"display:none;\">\n",
              "        \n",
              "  <svg xmlns=\"http://www.w3.org/2000/svg\" height=\"24px\"viewBox=\"0 0 24 24\"\n",
              "       width=\"24px\">\n",
              "    <path d=\"M0 0h24v24H0V0z\" fill=\"none\"/>\n",
              "    <path d=\"M18.56 5.44l.94 2.06.94-2.06 2.06-.94-2.06-.94-.94-2.06-.94 2.06-2.06.94zm-11 1L8.5 8.5l.94-2.06 2.06-.94-2.06-.94L8.5 2.5l-.94 2.06-2.06.94zm10 10l.94 2.06.94-2.06 2.06-.94-2.06-.94-.94-2.06-.94 2.06-2.06.94z\"/><path d=\"M17.41 7.96l-1.37-1.37c-.4-.4-.92-.59-1.43-.59-.52 0-1.04.2-1.43.59L10.3 9.45l-7.72 7.72c-.78.78-.78 2.05 0 2.83L4 21.41c.39.39.9.59 1.41.59.51 0 1.02-.2 1.41-.59l7.78-7.78 2.81-2.81c.8-.78.8-2.07 0-2.86zM5.41 20L4 18.59l7.72-7.72 1.47 1.35L5.41 20z\"/>\n",
              "  </svg>\n",
              "      </button>\n",
              "      \n",
              "  <style>\n",
              "    .colab-df-container {\n",
              "      display:flex;\n",
              "      flex-wrap:wrap;\n",
              "      gap: 12px;\n",
              "    }\n",
              "\n",
              "    .colab-df-convert {\n",
              "      background-color: #E8F0FE;\n",
              "      border: none;\n",
              "      border-radius: 50%;\n",
              "      cursor: pointer;\n",
              "      display: none;\n",
              "      fill: #1967D2;\n",
              "      height: 32px;\n",
              "      padding: 0 0 0 0;\n",
              "      width: 32px;\n",
              "    }\n",
              "\n",
              "    .colab-df-convert:hover {\n",
              "      background-color: #E2EBFA;\n",
              "      box-shadow: 0px 1px 2px rgba(60, 64, 67, 0.3), 0px 1px 3px 1px rgba(60, 64, 67, 0.15);\n",
              "      fill: #174EA6;\n",
              "    }\n",
              "\n",
              "    [theme=dark] .colab-df-convert {\n",
              "      background-color: #3B4455;\n",
              "      fill: #D2E3FC;\n",
              "    }\n",
              "\n",
              "    [theme=dark] .colab-df-convert:hover {\n",
              "      background-color: #434B5C;\n",
              "      box-shadow: 0px 1px 3px 1px rgba(0, 0, 0, 0.15);\n",
              "      filter: drop-shadow(0px 1px 2px rgba(0, 0, 0, 0.3));\n",
              "      fill: #FFFFFF;\n",
              "    }\n",
              "  </style>\n",
              "\n",
              "      <script>\n",
              "        const buttonEl =\n",
              "          document.querySelector('#df-bb691c28-2780-4c8a-923b-02682ab49287 button.colab-df-convert');\n",
              "        buttonEl.style.display =\n",
              "          google.colab.kernel.accessAllowed ? 'block' : 'none';\n",
              "\n",
              "        async function convertToInteractive(key) {\n",
              "          const element = document.querySelector('#df-bb691c28-2780-4c8a-923b-02682ab49287');\n",
              "          const dataTable =\n",
              "            await google.colab.kernel.invokeFunction('convertToInteractive',\n",
              "                                                     [key], {});\n",
              "          if (!dataTable) return;\n",
              "\n",
              "          const docLinkHtml = 'Like what you see? Visit the ' +\n",
              "            '<a target=\"_blank\" href=https://colab.research.google.com/notebooks/data_table.ipynb>data table notebook</a>'\n",
              "            + ' to learn more about interactive tables.';\n",
              "          element.innerHTML = '';\n",
              "          dataTable['output_type'] = 'display_data';\n",
              "          await google.colab.output.renderOutput(dataTable, element);\n",
              "          const docLink = document.createElement('div');\n",
              "          docLink.innerHTML = docLinkHtml;\n",
              "          element.appendChild(docLink);\n",
              "        }\n",
              "      </script>\n",
              "    </div>\n",
              "  </div>\n",
              "  "
            ]
          },
          "metadata": {},
          "execution_count": 24
        }
      ]
    },
    {
      "cell_type": "code",
      "source": [
        "#3축데이터 한번에 보기 (워키데이터중 100개 )  20헤르츠의 센서를 사용했으니 5초를 보는 것이 된다 \n",
        "Fs=100\n",
        "plt.plot(np.arange(0,1500),balanced_data.gFx[balanced_data['activity']==\"walking\"][:1500], label='X-axis') #100개데이타 마지막 69의 walkig부분100개데이타\n",
        "plt.plot(np.arange(0,1500),balanced_data.gFy[balanced_data['activity']==\"walking\"][:1500], label='Y-axis')\n",
        "plt.plot(np.arange(0,1500),balanced_data.gFz[balanced_data['activity']==\"walking\"][:1500], label='Z-axis')\n",
        "plt.legend()"
      ],
      "metadata": {
        "colab": {
          "base_uri": "https://localhost:8080/",
          "height": 283
        },
        "id": "4uDo0bDfpOqT",
        "outputId": "cb7f4189-76a9-4de1-e653-891e4ae50e7c"
      },
      "execution_count": null,
      "outputs": [
        {
          "output_type": "execute_result",
          "data": {
            "text/plain": [
              "<matplotlib.legend.Legend at 0x7fa2acaaf220>"
            ]
          },
          "metadata": {},
          "execution_count": 25
        },
        {
          "output_type": "display_data",
          "data": {
            "text/plain": [
              "<Figure size 432x288 with 1 Axes>"
            ],
            "image/png": "[encoded data removed]"
          },
          "metadata": {
            "needs_background": "light"
          }
        }
      ]
    },
    {
      "cell_type": "code",
      "source": [
        "Fs=100\n",
        "plt.plot(np.arange(0,1500),balanced_data.gFx[balanced_data['activity']==\"jogging\"][:1500], label='X-axis') #100개데이타 마지막 69의 walkig부분100개데이타\n",
        "plt.plot(np.arange(0,1500),balanced_data.gFy[balanced_data['activity']==\"jogging\"][:1500], label='Y-axis')#3초 동안의 데이터\n",
        "plt.plot(np.arange(0,1500),balanced_data.gFz[balanced_data['activity']==\"jogging\"][:1500], label='Z-axis')\n",
        "plt.legend()"
      ],
      "metadata": {
        "colab": {
          "base_uri": "https://localhost:8080/",
          "height": 283
        },
        "id": "OzRkMQqhqLuA",
        "outputId": "b63655dd-7edc-4fc0-8d68-9d155d7214a4"
      },
      "execution_count": null,
      "outputs": [
        {
          "output_type": "execute_result",
          "data": {
            "text/plain": [
              "<matplotlib.legend.Legend at 0x7fa2aab21190>"
            ]
          },
          "metadata": {},
          "execution_count": 26
        },
        {
          "output_type": "display_data",
          "data": {
            "text/plain": [
              "<Figure size 432x288 with 1 Axes>"
            ],
            "image/png": "[encoded data removed]"
          },
          "metadata": {
            "needs_background": "light"
          }
        }
      ]
    },
    {
      "cell_type": "code",
      "source": [
        "Fs=100\n",
        "plt.plot(np.arange(0,Fs*15),balanced_data.gFx[balanced_data['activity']==\"sitting\"][:Fs*15], label='X-axis') #100개데이타 마지막 69의 walkig부분100개데이타\n",
        "plt.plot(np.arange(0,Fs*15),balanced_data.gFy[balanced_data['activity']==\"sitting\"][:Fs*15], label='Y-axis')\n",
        "plt.plot(np.arange(0,Fs*15),balanced_data.gFz[balanced_data['activity']==\"sitting\"][:Fs*15], label='Z-axis')\n",
        "plt.legend()"
      ],
      "metadata": {
        "colab": {
          "base_uri": "https://localhost:8080/",
          "height": 287
        },
        "id": "E8UPr5UzqLwt",
        "outputId": "fb60875d-6805-4c82-b323-5ed009e43a3d"
      },
      "execution_count": null,
      "outputs": [
        {
          "output_type": "execute_result",
          "data": {
            "text/plain": [
              "<matplotlib.legend.Legend at 0x7fa2aaab25b0>"
            ]
          },
          "metadata": {},
          "execution_count": 27
        },
        {
          "output_type": "display_data",
          "data": {
            "text/plain": [
              "<Figure size 432x288 with 1 Axes>"
            ],
            "image/png": "[encoded data removed]"
          },
          "metadata": {
            "needs_background": "light"
          }
        }
      ]
    },
    {
      "cell_type": "code",
      "source": [
        "import librosa\n",
        "import librosa.display\n",
        "import scipy as sp\n",
        "import IPython.display as ipd\n",
        "import matplotlib.pyplot as plt\n",
        "import numpy as np\n",
        "walking_signal_x= balanced_data.gFx[balanced_data['activity']==\"walking\"]\n",
        "walking_signal_y= balanced_data.gFy[balanced_data['activity']==\"walking\"]\n",
        "walking_signal_z= balanced_data.gFz[balanced_data['activity']==\"walking\"]\n",
        "\n",
        "walking_signal_x= walking_signal_x.to_numpy()\n",
        "walking_signal_y= walking_signal_y.to_numpy()\n",
        "walking_signal_z= walking_signal_z.to_numpy()\n",
        "\n",
        "walking_ft_x = sp.fft.fft(walking_signal_x)\n",
        "walking_ft_y = sp.fft.fft(walking_signal_y)\n",
        "walking_ft_z= sp.fft.fft(walking_signal_z)\n",
        "\n",
        "walking_magnitude_x = np.absolute(walking_ft_x)\n",
        "walking_magnitude_y = np.absolute(walking_ft_y)\n",
        "walking_magnitude_z = np.absolute(walking_ft_z)\n",
        "\n",
        "\n",
        "walking_frequency_x = np.linspace(0, 100, len(walking_magnitude_x)) \n",
        "walking_frequency_y = np.linspace(0, 100, len(walking_magnitude_y)) \n",
        "walking_frequency_z = np.linspace(0, 100, len(walking_magnitude_z)) \n",
        "\n",
        "f= len(walking_magnitude_x)/10\n",
        "f= int(f)\n",
        "\n",
        "\n",
        "\n",
        "# plot spectrum\n",
        "plt.figure(figsize=(14, 6))\n",
        "plt.plot(walking_frequency_x[0:f], walking_magnitude_x[0:f]) \n",
        "plt.plot(walking_frequency_y[0:f], walking_magnitude_y[0:f]) \n",
        "plt.plot(walking_frequency_z[0:f], walking_magnitude_z[0:f]) \n",
        "plt.xlabel(\"Frequency (Hz)\")\n",
        "plt.ylabel(\"Magnitude\")\n",
        "plt.show()"
      ],
      "metadata": {
        "colab": {
          "base_uri": "https://localhost:8080/"
        },
        "id": "VGoWgBGeZm0x",
        "outputId": "1968555d-bcee-4012-a9d8-dc724240b387"
      },
      "execution_count": null,
      "outputs": [
        {
          "output_type": "display_data",
          "data": {
            "text/plain": [
              "<Figure size 1008x432 with 1 Axes>"
            ],
            "image/png": "[encoded data removed]"
          },
          "metadata": {
            "needs_background": "light"
          }
        }
      ]
    },
    {
      "cell_type": "code",
      "source": [
        "27849*3"
      ],
      "metadata": {
        "colab": {
          "base_uri": "https://localhost:8080/"
        },
        "id": "cHiBwBZCnyOz",
        "outputId": "8b3b7447-6595-4ca8-a68f-58da4fda08be"
      },
      "execution_count": null,
      "outputs": [
        {
          "output_type": "execute_result",
          "data": {
            "text/plain": [
              "83547"
            ]
          },
          "metadata": {},
          "execution_count": 31
        }
      ]
    },
    {
      "cell_type": "code",
      "source": [
        "balanced_data.shape"
      ],
      "metadata": {
        "colab": {
          "base_uri": "https://localhost:8080/"
        },
        "id": "Gh7ZyxaZ2UtP",
        "outputId": "9738c48c-0a64-4c72-f084-cf0dfa839b24"
      },
      "execution_count": null,
      "outputs": [
        {
          "output_type": "execute_result",
          "data": {
            "text/plain": [
              "(83547, 5)"
            ]
          },
          "metadata": {},
          "execution_count": 30
        }
      ]
    },
    {
      "cell_type": "code",
      "source": [
        "balanced_data['activity'].value_counts()"
      ],
      "metadata": {
        "colab": {
          "base_uri": "https://localhost:8080/"
        },
        "id": "f7MfLv_G26y5",
        "outputId": "a8716cd0-c9ae-441b-edb5-f4d099427587"
      },
      "execution_count": null,
      "outputs": [
        {
          "output_type": "execute_result",
          "data": {
            "text/plain": [
              "walking    27849\n",
              "jogging    27849\n",
              "sitting    27849\n",
              "Name: activity, dtype: int64"
            ]
          },
          "metadata": {},
          "execution_count": 32
        }
      ]
    },
    {
      "cell_type": "code",
      "source": [
        "from sklearn.preprocessing import LabelEncoder"
      ],
      "metadata": {
        "id": "dw0YD6ek263H"
      },
      "execution_count": null,
      "outputs": []
    },
    {
      "cell_type": "code",
      "source": [
        "label=LabelEncoder()\n",
        "balanced_data['label'] = label.fit_transform(balanced_data['activity'])"
      ],
      "metadata": {
        "id": "ErwsnCih265w"
      },
      "execution_count": null,
      "outputs": []
    },
    {
      "cell_type": "code",
      "source": [
        "label"
      ],
      "metadata": {
        "colab": {
          "base_uri": "https://localhost:8080/"
        },
        "id": "vul9afUP26-J",
        "outputId": "0d117467-d5f2-441b-af5e-702ab8f0260f"
      },
      "execution_count": null,
      "outputs": [
        {
          "output_type": "execute_result",
          "data": {
            "text/plain": [
              "LabelEncoder()"
            ]
          },
          "metadata": {},
          "execution_count": 35
        }
      ]
    },
    {
      "cell_type": "code",
      "source": [
        "balanced_data"
      ],
      "metadata": {
        "colab": {
          "base_uri": "https://localhost:8080/",
          "height": 424
        },
        "id": "Y4q-GCFa2Uvg",
        "outputId": "40671483-b5d8-4190-f23b-b979726a0052"
      },
      "execution_count": null,
      "outputs": [
        {
          "output_type": "execute_result",
          "data": {
            "text/plain": [
              "      activity        time       gFx       gFy       gFz  label\n",
              "0      walking    0.008431 -0.119949 -0.858963 -0.561295      2\n",
              "1      walking    0.017661 -0.144073 -0.868179 -0.569443      2\n",
              "2      walking    0.027832 -0.150024 -0.857712 -0.574188      2\n",
              "3      walking    0.037942 -0.154800 -0.847992 -0.573059      2\n",
              "4      walking    0.047956 -0.145584 -0.834686 -0.570267      2\n",
              "...        ...         ...       ...       ...       ...    ...\n",
              "27844  sitting  277.543395 -0.193604 -0.317322 -0.972015      1\n",
              "27845  sitting  277.553907 -0.182327 -0.311172 -0.981766      1\n",
              "27846  sitting  277.562589 -0.175552 -0.300262 -0.963791      1\n",
              "27847  sitting  277.571349 -0.182007 -0.280548 -0.908310      1\n",
              "27848  sitting  277.580963 -0.205902 -0.275864 -0.892136      1\n",
              "\n",
              "[83547 rows x 6 columns]"
            ],
            "text/html": [
              "\n",
              "  <div id=\"df-c2fa6494-7200-426b-bea8-6b2297d0ac5c\">\n",
              "    <div class=\"colab-df-container\">\n",
              "      <div>\n",
              "<style scoped>\n",
              "    .dataframe tbody tr th:only-of-type {\n",
              "        vertical-align: middle;\n",
              "    }\n",
              "\n",
              "    .dataframe tbody tr th {\n",
              "        vertical-align: top;\n",
              "    }\n",
              "\n",
              "    .dataframe thead th {\n",
              "        text-align: right;\n",
              "    }\n",
              "</style>\n",
              "<table border=\"1\" class=\"dataframe\">\n",
              "  <thead>\n",
              "    <tr style=\"text-align: right;\">\n",
              "      <th></th>\n",
              "      <th>activity</th>\n",
              "      <th>time</th>\n",
              "      <th>gFx</th>\n",
              "      <th>gFy</th>\n",
              "      <th>gFz</th>\n",
              "      <th>label</th>\n",
              "    </tr>\n",
              "  </thead>\n",
              "  <tbody>\n",
              "    <tr>\n",
              "      <th>0</th>\n",
              "      <td>walking</td>\n",
              "      <td>0.008431</td>\n",
              "      <td>-0.119949</td>\n",
              "      <td>-0.858963</td>\n",
              "      <td>-0.561295</td>\n",
              "      <td>2</td>\n",
              "    </tr>\n",
              "    <tr>\n",
              "      <th>1</th>\n",
              "      <td>walking</td>\n",
              "      <td>0.017661</td>\n",
              "      <td>-0.144073</td>\n",
              "      <td>-0.868179</td>\n",
              "      <td>-0.569443</td>\n",
              "      <td>2</td>\n",
              "    </tr>\n",
              "    <tr>\n",
              "      <th>2</th>\n",
              "      <td>walking</td>\n",
              "      <td>0.027832</td>\n",
              "      <td>-0.150024</td>\n",
              "      <td>-0.857712</td>\n",
              "      <td>-0.574188</td>\n",
              "      <td>2</td>\n",
              "    </tr>\n",
              "    <tr>\n",
              "      <th>3</th>\n",
              "      <td>walking</td>\n",
              "      <td>0.037942</td>\n",
              "      <td>-0.154800</td>\n",
              "      <td>-0.847992</td>\n",
              "      <td>-0.573059</td>\n",
              "      <td>2</td>\n",
              "    </tr>\n",
              "    <tr>\n",
              "      <th>4</th>\n",
              "      <td>walking</td>\n",
              "      <td>0.047956</td>\n",
              "      <td>-0.145584</td>\n",
              "      <td>-0.834686</td>\n",
              "      <td>-0.570267</td>\n",
              "      <td>2</td>\n",
              "    </tr>\n",
              "    <tr>\n",
              "      <th>...</th>\n",
              "      <td>...</td>\n",
              "      <td>...</td>\n",
              "      <td>...</td>\n",
              "      <td>...</td>\n",
              "      <td>...</td>\n",
              "      <td>...</td>\n",
              "    </tr>\n",
              "    <tr>\n",
              "      <th>27844</th>\n",
              "      <td>sitting</td>\n",
              "      <td>277.543395</td>\n",
              "      <td>-0.193604</td>\n",
              "      <td>-0.317322</td>\n",
              "      <td>-0.972015</td>\n",
              "      <td>1</td>\n",
              "    </tr>\n",
              "    <tr>\n",
              "      <th>27845</th>\n",
              "      <td>sitting</td>\n",
              "      <td>277.553907</td>\n",
              "      <td>-0.182327</td>\n",
              "      <td>-0.311172</td>\n",
              "      <td>-0.981766</td>\n",
              "      <td>1</td>\n",
              "    </tr>\n",
              "    <tr>\n",
              "      <th>27846</th>\n",
              "      <td>sitting</td>\n",
              "      <td>277.562589</td>\n",
              "      <td>-0.175552</td>\n",
              "      <td>-0.300262</td>\n",
              "      <td>-0.963791</td>\n",
              "      <td>1</td>\n",
              "    </tr>\n",
              "    <tr>\n",
              "      <th>27847</th>\n",
              "      <td>sitting</td>\n",
              "      <td>277.571349</td>\n",
              "      <td>-0.182007</td>\n",
              "      <td>-0.280548</td>\n",
              "      <td>-0.908310</td>\n",
              "      <td>1</td>\n",
              "    </tr>\n",
              "    <tr>\n",
              "      <th>27848</th>\n",
              "      <td>sitting</td>\n",
              "      <td>277.580963</td>\n",
              "      <td>-0.205902</td>\n",
              "      <td>-0.275864</td>\n",
              "      <td>-0.892136</td>\n",
              "      <td>1</td>\n",
              "    </tr>\n",
              "  </tbody>\n",
              "</table>\n",
              "<p>83547 rows × 6 columns</p>\n",
              "</div>\n",
              "      <button class=\"colab-df-convert\" onclick=\"convertToInteractive('df-c2fa6494-7200-426b-bea8-6b2297d0ac5c')\"\n",
              "              title=\"Convert this dataframe to an interactive table.\"\n",
              "              style=\"display:none;\">\n",
              "        \n",
              "  <svg xmlns=\"http://www.w3.org/2000/svg\" height=\"24px\"viewBox=\"0 0 24 24\"\n",
              "       width=\"24px\">\n",
              "    <path d=\"M0 0h24v24H0V0z\" fill=\"none\"/>\n",
              "    <path d=\"M18.56 5.44l.94 2.06.94-2.06 2.06-.94-2.06-.94-.94-2.06-.94 2.06-2.06.94zm-11 1L8.5 8.5l.94-2.06 2.06-.94-2.06-.94L8.5 2.5l-.94 2.06-2.06.94zm10 10l.94 2.06.94-2.06 2.06-.94-2.06-.94-.94-2.06-.94 2.06-2.06.94z\"/><path d=\"M17.41 7.96l-1.37-1.37c-.4-.4-.92-.59-1.43-.59-.52 0-1.04.2-1.43.59L10.3 9.45l-7.72 7.72c-.78.78-.78 2.05 0 2.83L4 21.41c.39.39.9.59 1.41.59.51 0 1.02-.2 1.41-.59l7.78-7.78 2.81-2.81c.8-.78.8-2.07 0-2.86zM5.41 20L4 18.59l7.72-7.72 1.47 1.35L5.41 20z\"/>\n",
              "  </svg>\n",
              "      </button>\n",
              "      \n",
              "  <style>\n",
              "    .colab-df-container {\n",
              "      display:flex;\n",
              "      flex-wrap:wrap;\n",
              "      gap: 12px;\n",
              "    }\n",
              "\n",
              "    .colab-df-convert {\n",
              "      background-color: #E8F0FE;\n",
              "      border: none;\n",
              "      border-radius: 50%;\n",
              "      cursor: pointer;\n",
              "      display: none;\n",
              "      fill: #1967D2;\n",
              "      height: 32px;\n",
              "      padding: 0 0 0 0;\n",
              "      width: 32px;\n",
              "    }\n",
              "\n",
              "    .colab-df-convert:hover {\n",
              "      background-color: #E2EBFA;\n",
              "      box-shadow: 0px 1px 2px rgba(60, 64, 67, 0.3), 0px 1px 3px 1px rgba(60, 64, 67, 0.15);\n",
              "      fill: #174EA6;\n",
              "    }\n",
              "\n",
              "    [theme=dark] .colab-df-convert {\n",
              "      background-color: #3B4455;\n",
              "      fill: #D2E3FC;\n",
              "    }\n",
              "\n",
              "    [theme=dark] .colab-df-convert:hover {\n",
              "      background-color: #434B5C;\n",
              "      box-shadow: 0px 1px 3px 1px rgba(0, 0, 0, 0.15);\n",
              "      filter: drop-shadow(0px 1px 2px rgba(0, 0, 0, 0.3));\n",
              "      fill: #FFFFFF;\n",
              "    }\n",
              "  </style>\n",
              "\n",
              "      <script>\n",
              "        const buttonEl =\n",
              "          document.querySelector('#df-c2fa6494-7200-426b-bea8-6b2297d0ac5c button.colab-df-convert');\n",
              "        buttonEl.style.display =\n",
              "          google.colab.kernel.accessAllowed ? 'block' : 'none';\n",
              "\n",
              "        async function convertToInteractive(key) {\n",
              "          const element = document.querySelector('#df-c2fa6494-7200-426b-bea8-6b2297d0ac5c');\n",
              "          const dataTable =\n",
              "            await google.colab.kernel.invokeFunction('convertToInteractive',\n",
              "                                                     [key], {});\n",
              "          if (!dataTable) return;\n",
              "\n",
              "          const docLinkHtml = 'Like what you see? Visit the ' +\n",
              "            '<a target=\"_blank\" href=https://colab.research.google.com/notebooks/data_table.ipynb>data table notebook</a>'\n",
              "            + ' to learn more about interactive tables.';\n",
              "          element.innerHTML = '';\n",
              "          dataTable['output_type'] = 'display_data';\n",
              "          await google.colab.output.renderOutput(dataTable, element);\n",
              "          const docLink = document.createElement('div');\n",
              "          docLink.innerHTML = docLinkHtml;\n",
              "          element.appendChild(docLink);\n",
              "        }\n",
              "      </script>\n",
              "    </div>\n",
              "  </div>\n",
              "  "
            ]
          },
          "metadata": {},
          "execution_count": 36
        }
      ]
    },
    {
      "cell_type": "code",
      "source": [
        "label.classes_"
      ],
      "metadata": {
        "colab": {
          "base_uri": "https://localhost:8080/"
        },
        "id": "_rLhwFx62UzP",
        "outputId": "6f165c5b-bf4d-4357-9453-14d4659da181"
      },
      "execution_count": null,
      "outputs": [
        {
          "output_type": "execute_result",
          "data": {
            "text/plain": [
              "array(['jogging', 'sitting', 'walking'], dtype=object)"
            ]
          },
          "metadata": {},
          "execution_count": 37
        }
      ]
    },
    {
      "cell_type": "code",
      "source": [
        "X = balanced_data[['gFx', 'gFy', 'gFz']]\n",
        "y = balanced_data['label']"
      ],
      "metadata": {
        "id": "U4e4kpUx3OLw"
      },
      "execution_count": null,
      "outputs": []
    },
    {
      "cell_type": "code",
      "source": [
        "y"
      ],
      "metadata": {
        "colab": {
          "base_uri": "https://localhost:8080/"
        },
        "id": "T5o0QnXK3ON3",
        "outputId": "cf9fa272-4366-4e79-a6c0-6cf6797fe5df"
      },
      "execution_count": null,
      "outputs": [
        {
          "output_type": "execute_result",
          "data": {
            "text/plain": [
              "0        2\n",
              "1        2\n",
              "2        2\n",
              "3        2\n",
              "4        2\n",
              "        ..\n",
              "27844    1\n",
              "27845    1\n",
              "27846    1\n",
              "27847    1\n",
              "27848    1\n",
              "Name: label, Length: 83547, dtype: int64"
            ]
          },
          "metadata": {},
          "execution_count": 39
        }
      ]
    },
    {
      "cell_type": "code",
      "source": [
        "scaler = StandardScaler()\n",
        "X = scaler.fit_transform(X)"
      ],
      "metadata": {
        "id": "mZ34Szg_3OQX"
      },
      "execution_count": null,
      "outputs": []
    },
    {
      "cell_type": "code",
      "source": [
        "X"
      ],
      "metadata": {
        "colab": {
          "base_uri": "https://localhost:8080/"
        },
        "id": "oNcRSgPS3OR_",
        "outputId": "908e6502-5344-4f45-ea67-583cb179c37c"
      },
      "execution_count": null,
      "outputs": [
        {
          "output_type": "execute_result",
          "data": {
            "text/plain": [
              "array([[ 0.71172513, -0.59574691, -0.66315284],\n",
              "       [ 0.68392441, -0.60510562, -0.67744344],\n",
              "       [ 0.67706655, -0.59447636, -0.68576624],\n",
              "       ...,\n",
              "       [ 0.64764807, -0.02841396, -1.36906578],\n",
              "       [ 0.64020993, -0.008395  , -1.27176123],\n",
              "       [ 0.61267298, -0.00363817, -1.24339411]])"
            ]
          },
          "metadata": {},
          "execution_count": 41
        }
      ]
    },
    {
      "cell_type": "code",
      "source": [
        "scaled_X = pd.DataFrame(data = X, columns = ['x', 'y', 'z'])\n",
        "scaled_X['label'] = y.values"
      ],
      "metadata": {
        "id": "dFP3_l_Z3OUI"
      },
      "execution_count": null,
      "outputs": []
    },
    {
      "cell_type": "code",
      "source": [
        "scaled_X"
      ],
      "metadata": {
        "colab": {
          "base_uri": "https://localhost:8080/",
          "height": 424
        },
        "id": "INLq18XW3qjB",
        "outputId": "e98a24e9-33d6-440a-9995-dd6441de0c67"
      },
      "execution_count": null,
      "outputs": [
        {
          "output_type": "execute_result",
          "data": {
            "text/plain": [
              "              x         y         z  label\n",
              "0      0.711725 -0.595747 -0.663153      2\n",
              "1      0.683924 -0.605106 -0.677443      2\n",
              "2      0.677067 -0.594476 -0.685766      2\n",
              "3      0.671563 -0.584606 -0.683786      2\n",
              "4      0.682184 -0.571095 -0.678889      2\n",
              "...         ...       ...       ...    ...\n",
              "83542  0.626846 -0.045737 -1.383490      1\n",
              "83543  0.639841 -0.039493 -1.400591      1\n",
              "83544  0.647648 -0.028414 -1.369066      1\n",
              "83545  0.640210 -0.008395 -1.271761      1\n",
              "83546  0.612673 -0.003638 -1.243394      1\n",
              "\n",
              "[83547 rows x 4 columns]"
            ],
            "text/html": [
              "\n",
              "  <div id=\"df-4aab5c81-0de4-4e9c-96aa-813d586ca505\">\n",
              "    <div class=\"colab-df-container\">\n",
              "      <div>\n",
              "<style scoped>\n",
              "    .dataframe tbody tr th:only-of-type {\n",
              "        vertical-align: middle;\n",
              "    }\n",
              "\n",
              "    .dataframe tbody tr th {\n",
              "        vertical-align: top;\n",
              "    }\n",
              "\n",
              "    .dataframe thead th {\n",
              "        text-align: right;\n",
              "    }\n",
              "</style>\n",
              "<table border=\"1\" class=\"dataframe\">\n",
              "  <thead>\n",
              "    <tr style=\"text-align: right;\">\n",
              "      <th></th>\n",
              "      <th>x</th>\n",
              "      <th>y</th>\n",
              "      <th>z</th>\n",
              "      <th>label</th>\n",
              "    </tr>\n",
              "  </thead>\n",
              "  <tbody>\n",
              "    <tr>\n",
              "      <th>0</th>\n",
              "      <td>0.711725</td>\n",
              "      <td>-0.595747</td>\n",
              "      <td>-0.663153</td>\n",
              "      <td>2</td>\n",
              "    </tr>\n",
              "    <tr>\n",
              "      <th>1</th>\n",
              "      <td>0.683924</td>\n",
              "      <td>-0.605106</td>\n",
              "      <td>-0.677443</td>\n",
              "      <td>2</td>\n",
              "    </tr>\n",
              "    <tr>\n",
              "      <th>2</th>\n",
              "      <td>0.677067</td>\n",
              "      <td>-0.594476</td>\n",
              "      <td>-0.685766</td>\n",
              "      <td>2</td>\n",
              "    </tr>\n",
              "    <tr>\n",
              "      <th>3</th>\n",
              "      <td>0.671563</td>\n",
              "      <td>-0.584606</td>\n",
              "      <td>-0.683786</td>\n",
              "      <td>2</td>\n",
              "    </tr>\n",
              "    <tr>\n",
              "      <th>4</th>\n",
              "      <td>0.682184</td>\n",
              "      <td>-0.571095</td>\n",
              "      <td>-0.678889</td>\n",
              "      <td>2</td>\n",
              "    </tr>\n",
              "    <tr>\n",
              "      <th>...</th>\n",
              "      <td>...</td>\n",
              "      <td>...</td>\n",
              "      <td>...</td>\n",
              "      <td>...</td>\n",
              "    </tr>\n",
              "    <tr>\n",
              "      <th>83542</th>\n",
              "      <td>0.626846</td>\n",
              "      <td>-0.045737</td>\n",
              "      <td>-1.383490</td>\n",
              "      <td>1</td>\n",
              "    </tr>\n",
              "    <tr>\n",
              "      <th>83543</th>\n",
              "      <td>0.639841</td>\n",
              "      <td>-0.039493</td>\n",
              "      <td>-1.400591</td>\n",
              "      <td>1</td>\n",
              "    </tr>\n",
              "    <tr>\n",
              "      <th>83544</th>\n",
              "      <td>0.647648</td>\n",
              "      <td>-0.028414</td>\n",
              "      <td>-1.369066</td>\n",
              "      <td>1</td>\n",
              "    </tr>\n",
              "    <tr>\n",
              "      <th>83545</th>\n",
              "      <td>0.640210</td>\n",
              "      <td>-0.008395</td>\n",
              "      <td>-1.271761</td>\n",
              "      <td>1</td>\n",
              "    </tr>\n",
              "    <tr>\n",
              "      <th>83546</th>\n",
              "      <td>0.612673</td>\n",
              "      <td>-0.003638</td>\n",
              "      <td>-1.243394</td>\n",
              "      <td>1</td>\n",
              "    </tr>\n",
              "  </tbody>\n",
              "</table>\n",
              "<p>83547 rows × 4 columns</p>\n",
              "</div>\n",
              "      <button class=\"colab-df-convert\" onclick=\"convertToInteractive('df-4aab5c81-0de4-4e9c-96aa-813d586ca505')\"\n",
              "              title=\"Convert this dataframe to an interactive table.\"\n",
              "              style=\"display:none;\">\n",
              "        \n",
              "  <svg xmlns=\"http://www.w3.org/2000/svg\" height=\"24px\"viewBox=\"0 0 24 24\"\n",
              "       width=\"24px\">\n",
              "    <path d=\"M0 0h24v24H0V0z\" fill=\"none\"/>\n",
              "    <path d=\"M18.56 5.44l.94 2.06.94-2.06 2.06-.94-2.06-.94-.94-2.06-.94 2.06-2.06.94zm-11 1L8.5 8.5l.94-2.06 2.06-.94-2.06-.94L8.5 2.5l-.94 2.06-2.06.94zm10 10l.94 2.06.94-2.06 2.06-.94-2.06-.94-.94-2.06-.94 2.06-2.06.94z\"/><path d=\"M17.41 7.96l-1.37-1.37c-.4-.4-.92-.59-1.43-.59-.52 0-1.04.2-1.43.59L10.3 9.45l-7.72 7.72c-.78.78-.78 2.05 0 2.83L4 21.41c.39.39.9.59 1.41.59.51 0 1.02-.2 1.41-.59l7.78-7.78 2.81-2.81c.8-.78.8-2.07 0-2.86zM5.41 20L4 18.59l7.72-7.72 1.47 1.35L5.41 20z\"/>\n",
              "  </svg>\n",
              "      </button>\n",
              "      \n",
              "  <style>\n",
              "    .colab-df-container {\n",
              "      display:flex;\n",
              "      flex-wrap:wrap;\n",
              "      gap: 12px;\n",
              "    }\n",
              "\n",
              "    .colab-df-convert {\n",
              "      background-color: #E8F0FE;\n",
              "      border: none;\n",
              "      border-radius: 50%;\n",
              "      cursor: pointer;\n",
              "      display: none;\n",
              "      fill: #1967D2;\n",
              "      height: 32px;\n",
              "      padding: 0 0 0 0;\n",
              "      width: 32px;\n",
              "    }\n",
              "\n",
              "    .colab-df-convert:hover {\n",
              "      background-color: #E2EBFA;\n",
              "      box-shadow: 0px 1px 2px rgba(60, 64, 67, 0.3), 0px 1px 3px 1px rgba(60, 64, 67, 0.15);\n",
              "      fill: #174EA6;\n",
              "    }\n",
              "\n",
              "    [theme=dark] .colab-df-convert {\n",
              "      background-color: #3B4455;\n",
              "      fill: #D2E3FC;\n",
              "    }\n",
              "\n",
              "    [theme=dark] .colab-df-convert:hover {\n",
              "      background-color: #434B5C;\n",
              "      box-shadow: 0px 1px 3px 1px rgba(0, 0, 0, 0.15);\n",
              "      filter: drop-shadow(0px 1px 2px rgba(0, 0, 0, 0.3));\n",
              "      fill: #FFFFFF;\n",
              "    }\n",
              "  </style>\n",
              "\n",
              "      <script>\n",
              "        const buttonEl =\n",
              "          document.querySelector('#df-4aab5c81-0de4-4e9c-96aa-813d586ca505 button.colab-df-convert');\n",
              "        buttonEl.style.display =\n",
              "          google.colab.kernel.accessAllowed ? 'block' : 'none';\n",
              "\n",
              "        async function convertToInteractive(key) {\n",
              "          const element = document.querySelector('#df-4aab5c81-0de4-4e9c-96aa-813d586ca505');\n",
              "          const dataTable =\n",
              "            await google.colab.kernel.invokeFunction('convertToInteractive',\n",
              "                                                     [key], {});\n",
              "          if (!dataTable) return;\n",
              "\n",
              "          const docLinkHtml = 'Like what you see? Visit the ' +\n",
              "            '<a target=\"_blank\" href=https://colab.research.google.com/notebooks/data_table.ipynb>data table notebook</a>'\n",
              "            + ' to learn more about interactive tables.';\n",
              "          element.innerHTML = '';\n",
              "          dataTable['output_type'] = 'display_data';\n",
              "          await google.colab.output.renderOutput(dataTable, element);\n",
              "          const docLink = document.createElement('div');\n",
              "          docLink.innerHTML = docLinkHtml;\n",
              "          element.appendChild(docLink);\n",
              "        }\n",
              "      </script>\n",
              "    </div>\n",
              "  </div>\n",
              "  "
            ]
          },
          "metadata": {},
          "execution_count": 43
        }
      ]
    },
    {
      "cell_type": "code",
      "source": [
        "Fs=100 # 20 Hz 로 수집된 데이터\n",
        "frame_size =Fs*4 #80 samples  , 4초 정도 면 6가지 동작을 구분하기에 충분하겠다\n",
        "hop_size=Fs*2 #40 samples"
      ],
      "metadata": {
        "id": "TL7hiSjj3qlm"
      },
      "execution_count": null,
      "outputs": []
    },
    {
      "cell_type": "code",
      "source": [
        "scaled_X"
      ],
      "metadata": {
        "colab": {
          "base_uri": "https://localhost:8080/",
          "height": 424
        },
        "id": "_aXfDK5u3qns",
        "outputId": "41a77e3c-1b04-4032-9ce6-4721c2528be1"
      },
      "execution_count": null,
      "outputs": [
        {
          "output_type": "execute_result",
          "data": {
            "text/plain": [
              "              x         y         z  label\n",
              "0      0.711725 -0.595747 -0.663153      2\n",
              "1      0.683924 -0.605106 -0.677443      2\n",
              "2      0.677067 -0.594476 -0.685766      2\n",
              "3      0.671563 -0.584606 -0.683786      2\n",
              "4      0.682184 -0.571095 -0.678889      2\n",
              "...         ...       ...       ...    ...\n",
              "83542  0.626846 -0.045737 -1.383490      1\n",
              "83543  0.639841 -0.039493 -1.400591      1\n",
              "83544  0.647648 -0.028414 -1.369066      1\n",
              "83545  0.640210 -0.008395 -1.271761      1\n",
              "83546  0.612673 -0.003638 -1.243394      1\n",
              "\n",
              "[83547 rows x 4 columns]"
            ],
            "text/html": [
              "\n",
              "  <div id=\"df-dd14b544-b79a-45c9-91cb-5b093d167ab8\">\n",
              "    <div class=\"colab-df-container\">\n",
              "      <div>\n",
              "<style scoped>\n",
              "    .dataframe tbody tr th:only-of-type {\n",
              "        vertical-align: middle;\n",
              "    }\n",
              "\n",
              "    .dataframe tbody tr th {\n",
              "        vertical-align: top;\n",
              "    }\n",
              "\n",
              "    .dataframe thead th {\n",
              "        text-align: right;\n",
              "    }\n",
              "</style>\n",
              "<table border=\"1\" class=\"dataframe\">\n",
              "  <thead>\n",
              "    <tr style=\"text-align: right;\">\n",
              "      <th></th>\n",
              "      <th>x</th>\n",
              "      <th>y</th>\n",
              "      <th>z</th>\n",
              "      <th>label</th>\n",
              "    </tr>\n",
              "  </thead>\n",
              "  <tbody>\n",
              "    <tr>\n",
              "      <th>0</th>\n",
              "      <td>0.711725</td>\n",
              "      <td>-0.595747</td>\n",
              "      <td>-0.663153</td>\n",
              "      <td>2</td>\n",
              "    </tr>\n",
              "    <tr>\n",
              "      <th>1</th>\n",
              "      <td>0.683924</td>\n",
              "      <td>-0.605106</td>\n",
              "      <td>-0.677443</td>\n",
              "      <td>2</td>\n",
              "    </tr>\n",
              "    <tr>\n",
              "      <th>2</th>\n",
              "      <td>0.677067</td>\n",
              "      <td>-0.594476</td>\n",
              "      <td>-0.685766</td>\n",
              "      <td>2</td>\n",
              "    </tr>\n",
              "    <tr>\n",
              "      <th>3</th>\n",
              "      <td>0.671563</td>\n",
              "      <td>-0.584606</td>\n",
              "      <td>-0.683786</td>\n",
              "      <td>2</td>\n",
              "    </tr>\n",
              "    <tr>\n",
              "      <th>4</th>\n",
              "      <td>0.682184</td>\n",
              "      <td>-0.571095</td>\n",
              "      <td>-0.678889</td>\n",
              "      <td>2</td>\n",
              "    </tr>\n",
              "    <tr>\n",
              "      <th>...</th>\n",
              "      <td>...</td>\n",
              "      <td>...</td>\n",
              "      <td>...</td>\n",
              "      <td>...</td>\n",
              "    </tr>\n",
              "    <tr>\n",
              "      <th>83542</th>\n",
              "      <td>0.626846</td>\n",
              "      <td>-0.045737</td>\n",
              "      <td>-1.383490</td>\n",
              "      <td>1</td>\n",
              "    </tr>\n",
              "    <tr>\n",
              "      <th>83543</th>\n",
              "      <td>0.639841</td>\n",
              "      <td>-0.039493</td>\n",
              "      <td>-1.400591</td>\n",
              "      <td>1</td>\n",
              "    </tr>\n",
              "    <tr>\n",
              "      <th>83544</th>\n",
              "      <td>0.647648</td>\n",
              "      <td>-0.028414</td>\n",
              "      <td>-1.369066</td>\n",
              "      <td>1</td>\n",
              "    </tr>\n",
              "    <tr>\n",
              "      <th>83545</th>\n",
              "      <td>0.640210</td>\n",
              "      <td>-0.008395</td>\n",
              "      <td>-1.271761</td>\n",
              "      <td>1</td>\n",
              "    </tr>\n",
              "    <tr>\n",
              "      <th>83546</th>\n",
              "      <td>0.612673</td>\n",
              "      <td>-0.003638</td>\n",
              "      <td>-1.243394</td>\n",
              "      <td>1</td>\n",
              "    </tr>\n",
              "  </tbody>\n",
              "</table>\n",
              "<p>83547 rows × 4 columns</p>\n",
              "</div>\n",
              "      <button class=\"colab-df-convert\" onclick=\"convertToInteractive('df-dd14b544-b79a-45c9-91cb-5b093d167ab8')\"\n",
              "              title=\"Convert this dataframe to an interactive table.\"\n",
              "              style=\"display:none;\">\n",
              "        \n",
              "  <svg xmlns=\"http://www.w3.org/2000/svg\" height=\"24px\"viewBox=\"0 0 24 24\"\n",
              "       width=\"24px\">\n",
              "    <path d=\"M0 0h24v24H0V0z\" fill=\"none\"/>\n",
              "    <path d=\"M18.56 5.44l.94 2.06.94-2.06 2.06-.94-2.06-.94-.94-2.06-.94 2.06-2.06.94zm-11 1L8.5 8.5l.94-2.06 2.06-.94-2.06-.94L8.5 2.5l-.94 2.06-2.06.94zm10 10l.94 2.06.94-2.06 2.06-.94-2.06-.94-.94-2.06-.94 2.06-2.06.94z\"/><path d=\"M17.41 7.96l-1.37-1.37c-.4-.4-.92-.59-1.43-.59-.52 0-1.04.2-1.43.59L10.3 9.45l-7.72 7.72c-.78.78-.78 2.05 0 2.83L4 21.41c.39.39.9.59 1.41.59.51 0 1.02-.2 1.41-.59l7.78-7.78 2.81-2.81c.8-.78.8-2.07 0-2.86zM5.41 20L4 18.59l7.72-7.72 1.47 1.35L5.41 20z\"/>\n",
              "  </svg>\n",
              "      </button>\n",
              "      \n",
              "  <style>\n",
              "    .colab-df-container {\n",
              "      display:flex;\n",
              "      flex-wrap:wrap;\n",
              "      gap: 12px;\n",
              "    }\n",
              "\n",
              "    .colab-df-convert {\n",
              "      background-color: #E8F0FE;\n",
              "      border: none;\n",
              "      border-radius: 50%;\n",
              "      cursor: pointer;\n",
              "      display: none;\n",
              "      fill: #1967D2;\n",
              "      height: 32px;\n",
              "      padding: 0 0 0 0;\n",
              "      width: 32px;\n",
              "    }\n",
              "\n",
              "    .colab-df-convert:hover {\n",
              "      background-color: #E2EBFA;\n",
              "      box-shadow: 0px 1px 2px rgba(60, 64, 67, 0.3), 0px 1px 3px 1px rgba(60, 64, 67, 0.15);\n",
              "      fill: #174EA6;\n",
              "    }\n",
              "\n",
              "    [theme=dark] .colab-df-convert {\n",
              "      background-color: #3B4455;\n",
              "      fill: #D2E3FC;\n",
              "    }\n",
              "\n",
              "    [theme=dark] .colab-df-convert:hover {\n",
              "      background-color: #434B5C;\n",
              "      box-shadow: 0px 1px 3px 1px rgba(0, 0, 0, 0.15);\n",
              "      filter: drop-shadow(0px 1px 2px rgba(0, 0, 0, 0.3));\n",
              "      fill: #FFFFFF;\n",
              "    }\n",
              "  </style>\n",
              "\n",
              "      <script>\n",
              "        const buttonEl =\n",
              "          document.querySelector('#df-dd14b544-b79a-45c9-91cb-5b093d167ab8 button.colab-df-convert');\n",
              "        buttonEl.style.display =\n",
              "          google.colab.kernel.accessAllowed ? 'block' : 'none';\n",
              "\n",
              "        async function convertToInteractive(key) {\n",
              "          const element = document.querySelector('#df-dd14b544-b79a-45c9-91cb-5b093d167ab8');\n",
              "          const dataTable =\n",
              "            await google.colab.kernel.invokeFunction('convertToInteractive',\n",
              "                                                     [key], {});\n",
              "          if (!dataTable) return;\n",
              "\n",
              "          const docLinkHtml = 'Like what you see? Visit the ' +\n",
              "            '<a target=\"_blank\" href=https://colab.research.google.com/notebooks/data_table.ipynb>data table notebook</a>'\n",
              "            + ' to learn more about interactive tables.';\n",
              "          element.innerHTML = '';\n",
              "          dataTable['output_type'] = 'display_data';\n",
              "          await google.colab.output.renderOutput(dataTable, element);\n",
              "          const docLink = document.createElement('div');\n",
              "          docLink.innerHTML = docLinkHtml;\n",
              "          element.appendChild(docLink);\n",
              "        }\n",
              "      </script>\n",
              "    </div>\n",
              "  </div>\n",
              "  "
            ]
          },
          "metadata": {},
          "execution_count": 45
        }
      ]
    },
    {
      "cell_type": "code",
      "source": [
        "import scipy.stats as stats"
      ],
      "metadata": {
        "id": "2nCxXOtb3qpy"
      },
      "execution_count": null,
      "outputs": []
    },
    {
      "cell_type": "code",
      "source": [
        "def get_frames(df, frame_size, hop_size):\n",
        "\n",
        "    N_FEATURES = 3\n",
        "\n",
        "    frames = []\n",
        "    labels = []\n",
        "    for i in range(0, len(df) - frame_size , hop_size):\n",
        "        x = df['x'].values[i: i + frame_size]  # 0~ 79  :80개로 이루어진 데이타 , 그 다음 프레임의 샘플 40~ 119\n",
        "        y = df['y'].values[i: i + frame_size]\n",
        "        z = df['z'].values[i: i + frame_size]\n",
        "        \n",
        "        # Retrieve the most often used label in this segment\n",
        "        label = stats.mode(df['label'][i: i + frame_size])[0][0]\n",
        "        frames.append([x, y, z])\n",
        "        labels.append(label)\n",
        "\n",
        "    # Bring the segments into a better shape\n",
        "    frames = np.asarray(frames).reshape(-1, frame_size, N_FEATURES)\n",
        "    labels = np.asarray(labels)\n",
        "\n",
        "    return frames, labels\n",
        "\n"
      ],
      "metadata": {
        "id": "KMofnUEC4Awr"
      },
      "execution_count": null,
      "outputs": []
    },
    {
      "cell_type": "code",
      "source": [
        "X, y = get_frames(scaled_X, frame_size, hop_size)\n"
      ],
      "metadata": {
        "id": "BW2QphTg4Ayg"
      },
      "execution_count": null,
      "outputs": []
    },
    {
      "cell_type": "code",
      "source": [
        "X_train, X_test, y_train, y_test = train_test_split(X, y, test_size = 0.2, random_state = 0, stratify = y)"
      ],
      "metadata": {
        "id": "Vlz8QxGr4A0W"
      },
      "execution_count": null,
      "outputs": []
    },
    {
      "cell_type": "code",
      "source": [
        "X_train.shape, X_test.shape "
      ],
      "metadata": {
        "colab": {
          "base_uri": "https://localhost:8080/"
        },
        "id": "TAFnNqOl4A2b",
        "outputId": "275822ae-741d-4b30-e82e-e677a95ecba5"
      },
      "execution_count": null,
      "outputs": [
        {
          "output_type": "execute_result",
          "data": {
            "text/plain": [
              "((332, 400, 3), (84, 400, 3))"
            ]
          },
          "metadata": {},
          "execution_count": 50
        }
      ]
    },
    {
      "cell_type": "code",
      "source": [
        "X_train[0].shape, X_test[0].shape"
      ],
      "metadata": {
        "colab": {
          "base_uri": "https://localhost:8080/"
        },
        "id": "ed-yWNX74vlP",
        "outputId": "087b4cfb-8fe0-4eed-fac3-55f00cf2b726"
      },
      "execution_count": null,
      "outputs": [
        {
          "output_type": "execute_result",
          "data": {
            "text/plain": [
              "((400, 3), (400, 3))"
            ]
          },
          "metadata": {},
          "execution_count": 51
        }
      ]
    },
    {
      "cell_type": "code",
      "source": [
        "X_train = X_train.reshape(332, 400, 3, 1)\n",
        "X_test = X_test.reshape(84, 400, 3, 1)"
      ],
      "metadata": {
        "id": "P3BWUKkr4vn-"
      },
      "execution_count": null,
      "outputs": []
    },
    {
      "cell_type": "code",
      "source": [
        "X_train.shape, X_test.shape "
      ],
      "metadata": {
        "colab": {
          "base_uri": "https://localhost:8080/"
        },
        "id": "m_xvOv5e4vsf",
        "outputId": "b3166d5a-253c-43ac-9c50-45e7afa24312"
      },
      "execution_count": null,
      "outputs": [
        {
          "output_type": "execute_result",
          "data": {
            "text/plain": [
              "((332, 400, 3, 1), (84, 400, 3, 1))"
            ]
          },
          "metadata": {},
          "execution_count": 53
        }
      ]
    },
    {
      "cell_type": "code",
      "source": [
        "X_train[0].shape, X_test[0].shape"
      ],
      "metadata": {
        "colab": {
          "base_uri": "https://localhost:8080/"
        },
        "id": "tDXwGnpm4vvX",
        "outputId": "0d4345a1-506f-406f-99a1-f3c684c17059"
      },
      "execution_count": null,
      "outputs": [
        {
          "output_type": "execute_result",
          "data": {
            "text/plain": [
              "((400, 3, 1), (400, 3, 1))"
            ]
          },
          "metadata": {},
          "execution_count": 54
        }
      ]
    },
    {
      "cell_type": "code",
      "source": [
        "X_train"
      ],
      "metadata": {
        "colab": {
          "base_uri": "https://localhost:8080/"
        },
        "id": "qz7yNwXt5B_M",
        "outputId": "12cb6b66-b973-4967-8528-8b74795ba47e"
      },
      "execution_count": null,
      "outputs": [
        {
          "output_type": "execute_result",
          "data": {
            "text/plain": [
              "array([[[[ 5.95264556e-01],\n",
              "         [ 5.95176635e-01],\n",
              "         [ 5.93629220e-01]],\n",
              "\n",
              "        [[ 5.93787478e-01],\n",
              "         [ 5.93857815e-01],\n",
              "         [ 5.95844837e-01]],\n",
              "\n",
              "        [[ 5.96688881e-01],\n",
              "         [ 5.98218712e-01],\n",
              "         [ 5.97409836e-01]],\n",
              "\n",
              "        ...,\n",
              "\n",
              "        [[-1.27344720e+00],\n",
              "         [-1.27114571e+00],\n",
              "         [-1.27066401e+00]],\n",
              "\n",
              "        [[-1.27122600e+00],\n",
              "         [-1.27433032e+00],\n",
              "         [-1.27160066e+00]],\n",
              "\n",
              "        [[-1.27267111e+00],\n",
              "         [-1.27352748e+00],\n",
              "         [-1.27053020e+00]]],\n",
              "\n",
              "\n",
              "       [[[ 6.61311046e-01],\n",
              "         [ 6.61926495e-01],\n",
              "         [ 6.62049585e-01]],\n",
              "\n",
              "        [[ 6.62629866e-01],\n",
              "         [ 6.61944079e-01],\n",
              "         [ 6.62700203e-01]],\n",
              "\n",
              "        [[ 6.62770540e-01],\n",
              "         [ 6.63139809e-01],\n",
              "         [ 6.61609978e-01]],\n",
              "\n",
              "        ...,\n",
              "\n",
              "        [[-1.31436542e+00],\n",
              "         [-1.31353582e+00],\n",
              "         [-1.31490065e+00]],\n",
              "\n",
              "        [[-1.31661338e+00],\n",
              "         [-1.31971770e+00],\n",
              "         [-1.32054731e+00]],\n",
              "\n",
              "        [[-1.31864725e+00],\n",
              "         [-1.31623872e+00],\n",
              "         [-1.31829935e+00]]],\n",
              "\n",
              "\n",
              "       [[[ 8.90715334e-01],\n",
              "         [ 8.85932415e-01],\n",
              "         [ 8.81448428e-01]],\n",
              "\n",
              "        [[ 8.88781066e-01],\n",
              "         [ 8.88288706e-01],\n",
              "         [ 8.88288706e-01]],\n",
              "\n",
              "        [[ 8.93458479e-01],\n",
              "         [ 8.95674097e-01],\n",
              "         [ 8.97573197e-01]],\n",
              "\n",
              "        ...,\n",
              "\n",
              "        [[-1.29485634e+00],\n",
              "         [-1.30441017e+00],\n",
              "         [-1.30973569e+00]],\n",
              "\n",
              "        [[-1.32841517e+00],\n",
              "         [-1.34200997e+00],\n",
              "         [-1.32908420e+00]],\n",
              "\n",
              "        [[-1.32672920e+00],\n",
              "         [-1.32017265e+00],\n",
              "         [-1.31037797e+00]]],\n",
              "\n",
              "\n",
              "       ...,\n",
              "\n",
              "\n",
              "       [[[ 5.96583376e-01],\n",
              "         [ 5.96354780e-01],\n",
              "         [ 5.94912871e-01]],\n",
              "\n",
              "        [[ 5.94402927e-01],\n",
              "         [ 5.93207197e-01],\n",
              "         [ 5.91677367e-01]],\n",
              "\n",
              "        [[ 5.92521411e-01],\n",
              "         [ 5.92556580e-01],\n",
              "         [ 5.92820344e-01]],\n",
              "\n",
              "        ...,\n",
              "\n",
              "        [[-1.26590047e+00],\n",
              "         [-1.26662303e+00],\n",
              "         [-1.26838929e+00]],\n",
              "\n",
              "        [[-1.27154713e+00],\n",
              "         [-1.27050344e+00],\n",
              "         [-1.27058372e+00]],\n",
              "\n",
              "        [[-1.27285844e+00],\n",
              "         [-1.27074429e+00],\n",
              "         [-1.27138657e+00]]],\n",
              "\n",
              "\n",
              "       [[[ 3.38622245e-01],\n",
              "         [ 2.12191398e-01],\n",
              "         [ 2.21018697e-01]],\n",
              "\n",
              "        [[-8.26966843e-02],\n",
              "         [-8.72370744e-01],\n",
              "         [-1.90308987e+00]],\n",
              "\n",
              "        [[-2.83862539e+00],\n",
              "         [-3.55168482e+00],\n",
              "         [-4.00569289e+00]],\n",
              "\n",
              "        ...,\n",
              "\n",
              "        [[ 3.88261766e-02],\n",
              "         [ 1.34337712e-01],\n",
              "         [ 1.68645863e-01]],\n",
              "\n",
              "        [[ 6.75679500e-02],\n",
              "         [ 5.15913776e-02],\n",
              "         [ 1.97452786e-02]],\n",
              "\n",
              "        [[ 2.91234048e-03],\n",
              "         [-1.54391332e-01],\n",
              "         [-4.29299853e-02]]],\n",
              "\n",
              "\n",
              "       [[[-2.30304393e+00],\n",
              "         [-2.53455832e+00],\n",
              "         [-2.75546941e+00]],\n",
              "\n",
              "        [[-2.83769343e+00],\n",
              "         [-2.77500553e+00],\n",
              "         [-2.53805759e+00]],\n",
              "\n",
              "        [[-2.16650213e+00],\n",
              "         [-1.82396069e+00],\n",
              "         [-1.44115130e+00]],\n",
              "\n",
              "        ...,\n",
              "\n",
              "        [[ 1.77548227e+00],\n",
              "         [ 1.70306585e+00],\n",
              "         [ 2.35607145e+00]],\n",
              "\n",
              "        [[ 2.55769204e+00],\n",
              "         [ 1.81779209e+00],\n",
              "         [ 1.88627458e+00]],\n",
              "\n",
              "        [[ 2.05034890e+00],\n",
              "         [ 1.67121975e+00],\n",
              "         [ 1.47182035e+00]]]])"
            ]
          },
          "metadata": {},
          "execution_count": 55
        }
      ]
    },
    {
      "cell_type": "code",
      "source": [
        "model = Sequential()\n",
        "model.add(Conv2D(16, (2, 2), activation = 'relu', input_shape = X_train[0].shape))\n",
        "model.add(Dropout(0.1))\n",
        "\n",
        "model.add(Conv2D(32, (2, 2), activation='relu'))\n",
        "model.add(Dropout(0.2))\n",
        "\n",
        "model.add(Flatten())\n",
        "\n",
        "model.add(Dense(128, activation = 'relu'))  # 64로 해보기\n",
        "model.add(Dropout(0.3))   # 0.5 로 해보기\n",
        "\n",
        "model.add(Dense(3, activation='softmax'))"
      ],
      "metadata": {
        "id": "vP5pm13K5CBz"
      },
      "execution_count": null,
      "outputs": []
    },
    {
      "cell_type": "code",
      "source": [
        "model.compile(optimizer=Adam(learning_rate = 0.001), loss = 'sparse_categorical_crossentropy', metrics = ['accuracy'])"
      ],
      "metadata": {
        "id": "o4BRvd4O5CDo"
      },
      "execution_count": null,
      "outputs": []
    },
    {
      "cell_type": "code",
      "source": [
        "model.summary()"
      ],
      "metadata": {
        "colab": {
          "base_uri": "https://localhost:8080/"
        },
        "id": "iuz0TjVO5CF_",
        "outputId": "2ec7c31a-012d-4fed-d3b0-b8bb94e59da5"
      },
      "execution_count": null,
      "outputs": [
        {
          "output_type": "stream",
          "name": "stdout",
          "text": [
            "Model: \"sequential\"\n",
            "_________________________________________________________________\n",
            " Layer (type)                Output Shape              Param #   \n",
            "=================================================================\n",
            " conv2d (Conv2D)             (None, 399, 2, 16)        80        \n",
            "                                                                 \n",
            " dropout (Dropout)           (None, 399, 2, 16)        0         \n",
            "                                                                 \n",
            " conv2d_1 (Conv2D)           (None, 398, 1, 32)        2080      \n",
            "                                                                 \n",
            " dropout_1 (Dropout)         (None, 398, 1, 32)        0         \n",
            "                                                                 \n",
            " flatten (Flatten)           (None, 12736)             0         \n",
            "                                                                 \n",
            " dense (Dense)               (None, 128)               1630336   \n",
            "                                                                 \n",
            " dropout_2 (Dropout)         (None, 128)               0         \n",
            "                                                                 \n",
            " dense_1 (Dense)             (None, 3)                 387       \n",
            "                                                                 \n",
            "=================================================================\n",
            "Total params: 1,632,883\n",
            "Trainable params: 1,632,883\n",
            "Non-trainable params: 0\n",
            "_________________________________________________________________\n"
          ]
        }
      ]
    },
    {
      "cell_type": "code",
      "source": [
        "history = model.fit(X_train, y_train, epochs = 20, validation_split = 0.2, \n",
        "                    verbose=1)"
      ],
      "metadata": {
        "colab": {
          "base_uri": "https://localhost:8080/"
        },
        "id": "OaUAM-xn5CH4",
        "outputId": "4860aa94-8be2-4249-d473-fa2d278e3b2f"
      },
      "execution_count": null,
      "outputs": [
        {
          "output_type": "stream",
          "name": "stdout",
          "text": [
            "Epoch 1/20\n",
            "9/9 [==============================] - 8s 37ms/step - loss: 0.2687 - accuracy: 0.8679 - val_loss: 1.8207e-04 - val_accuracy: 1.0000\n",
            "Epoch 2/20\n",
            "9/9 [==============================] - 0s 7ms/step - loss: 0.0323 - accuracy: 0.9887 - val_loss: 5.7467e-06 - val_accuracy: 1.0000\n",
            "Epoch 3/20\n",
            "9/9 [==============================] - 0s 7ms/step - loss: 0.0063 - accuracy: 0.9925 - val_loss: 4.7968e-06 - val_accuracy: 1.0000\n",
            "Epoch 4/20\n",
            "9/9 [==============================] - 0s 9ms/step - loss: 0.0036 - accuracy: 0.9962 - val_loss: 2.5123e-06 - val_accuracy: 1.0000\n",
            "Epoch 5/20\n",
            "9/9 [==============================] - 0s 9ms/step - loss: 9.2590e-04 - accuracy: 1.0000 - val_loss: 1.2028e-06 - val_accuracy: 1.0000\n",
            "Epoch 6/20\n",
            "9/9 [==============================] - 0s 13ms/step - loss: 3.2220e-04 - accuracy: 1.0000 - val_loss: 7.4372e-07 - val_accuracy: 1.0000\n",
            "Epoch 7/20\n",
            "9/9 [==============================] - 0s 13ms/step - loss: 0.0010 - accuracy: 1.0000 - val_loss: 6.6366e-07 - val_accuracy: 1.0000\n",
            "Epoch 8/20\n",
            "9/9 [==============================] - 0s 13ms/step - loss: 1.7742e-04 - accuracy: 1.0000 - val_loss: 7.8286e-07 - val_accuracy: 1.0000\n",
            "Epoch 9/20\n",
            "9/9 [==============================] - 0s 14ms/step - loss: 1.9131e-04 - accuracy: 1.0000 - val_loss: 7.7575e-07 - val_accuracy: 1.0000\n",
            "Epoch 10/20\n",
            "9/9 [==============================] - 0s 13ms/step - loss: 1.4816e-04 - accuracy: 1.0000 - val_loss: 6.8679e-07 - val_accuracy: 1.0000\n",
            "Epoch 11/20\n",
            "9/9 [==============================] - 0s 11ms/step - loss: 4.2501e-05 - accuracy: 1.0000 - val_loss: 6.3341e-07 - val_accuracy: 1.0000\n",
            "Epoch 12/20\n",
            "9/9 [==============================] - 0s 12ms/step - loss: 4.8115e-05 - accuracy: 1.0000 - val_loss: 5.8537e-07 - val_accuracy: 1.0000\n",
            "Epoch 13/20\n",
            "9/9 [==============================] - 0s 7ms/step - loss: 1.5481e-04 - accuracy: 1.0000 - val_loss: 4.8573e-07 - val_accuracy: 1.0000\n",
            "Epoch 14/20\n",
            "9/9 [==============================] - 0s 7ms/step - loss: 8.4681e-05 - accuracy: 1.0000 - val_loss: 4.3058e-07 - val_accuracy: 1.0000\n",
            "Epoch 15/20\n",
            "9/9 [==============================] - 0s 9ms/step - loss: 3.1723e-05 - accuracy: 1.0000 - val_loss: 4.0745e-07 - val_accuracy: 1.0000\n",
            "Epoch 16/20\n",
            "9/9 [==============================] - 0s 7ms/step - loss: 5.3887e-05 - accuracy: 1.0000 - val_loss: 3.8076e-07 - val_accuracy: 1.0000\n",
            "Epoch 17/20\n",
            "9/9 [==============================] - 0s 7ms/step - loss: 5.8172e-05 - accuracy: 1.0000 - val_loss: 3.4873e-07 - val_accuracy: 1.0000\n",
            "Epoch 18/20\n",
            "9/9 [==============================] - 0s 8ms/step - loss: 2.0091e-05 - accuracy: 1.0000 - val_loss: 3.3272e-07 - val_accuracy: 1.0000\n",
            "Epoch 19/20\n",
            "9/9 [==============================] - 0s 7ms/step - loss: 2.1634e-05 - accuracy: 1.0000 - val_loss: 3.1848e-07 - val_accuracy: 1.0000\n",
            "Epoch 20/20\n",
            "9/9 [==============================] - 0s 7ms/step - loss: 4.2756e-05 - accuracy: 1.0000 - val_loss: 3.0425e-07 - val_accuracy: 1.0000\n"
          ]
        }
      ]
    },
    {
      "cell_type": "code",
      "source": [
        "def plot_learningCurve(history, epochs):\n",
        "  # Plot training & validation accuracy values\n",
        "  epoch_range = range(1, epochs+1)\n",
        "  plt.plot(epoch_range, history.history['accuracy'])\n",
        "  plt.plot(epoch_range, history.history['val_accuracy'])\n",
        "  plt.title('Model accuracy')\n",
        "  plt.ylabel('Accuracy')\n",
        "  plt.xlabel('Epoch')\n",
        "  plt.legend(['Train', 'Val'], loc='upper left')\n",
        "  plt.show()\n",
        "\n",
        "  # Plot training & validation loss values\n",
        "  plt.plot(epoch_range, history.history['loss'])\n",
        "  plt.plot(epoch_range, history.history['val_loss'])\n",
        "  plt.title('Model loss')\n",
        "  plt.ylabel('Loss')\n",
        "  plt.xlabel('Epoch')\n",
        "  plt.legend(['Train', 'Val'], loc='upper left')\n",
        "  plt.show()"
      ],
      "metadata": {
        "id": "wx4Ly8NP5tIX"
      },
      "execution_count": null,
      "outputs": []
    },
    {
      "cell_type": "code",
      "source": [
        "plot_learningCurve(history, 20)"
      ],
      "metadata": {
        "colab": {
          "base_uri": "https://localhost:8080/",
          "height": 573
        },
        "id": "StA-95UP5tK5",
        "outputId": "c484fbd3-56ce-4672-fbb6-70b3cdd13745"
      },
      "execution_count": null,
      "outputs": [
        {
          "output_type": "display_data",
          "data": {
            "text/plain": [
              "<Figure size 432x288 with 1 Axes>"
            ],
            "image/png": "[encoded data removed]"
          },
          "metadata": {
            "needs_background": "light"
          }
        },
        {
          "output_type": "display_data",
          "data": {
            "text/plain": [
              "<Figure size 432x288 with 1 Axes>"
            ],
            "image/png": "[encoded data removed]"
          },
          "metadata": {
            "needs_background": "light"
          }
        }
      ]
    },
    {
      "cell_type": "code",
      "source": [
        "from mlxtend.plotting import plot_confusion_matrix\n",
        "from sklearn.metrics import confusion_matrix\n",
        "from sklearn.metrics import classification_report\n"
      ],
      "metadata": {
        "id": "qUo1TeKi5tQf"
      },
      "execution_count": null,
      "outputs": []
    },
    {
      "cell_type": "code",
      "source": [
        "y_pred_1 = model.predict(X_test)\n",
        "y_pred_1.shape"
      ],
      "metadata": {
        "colab": {
          "base_uri": "https://localhost:8080/"
        },
        "id": "TvE2tOi554p2",
        "outputId": "d54913e0-a3ed-46ec-d2c9-858e5310cdba"
      },
      "execution_count": null,
      "outputs": [
        {
          "output_type": "stream",
          "name": "stdout",
          "text": [
            "3/3 [==============================] - 0s 18ms/step\n"
          ]
        },
        {
          "output_type": "execute_result",
          "data": {
            "text/plain": [
              "(84, 3)"
            ]
          },
          "metadata": {},
          "execution_count": 103
        }
      ]
    },
    {
      "cell_type": "code",
      "source": [
        "y_pred = np.argmax(y_pred_1, axis=1)\n",
        "y_pred.shape"
      ],
      "metadata": {
        "colab": {
          "base_uri": "https://localhost:8080/"
        },
        "id": "sOSN4Evo54t-",
        "outputId": "a5c90d9a-729d-4ba2-9939-423cca26e0d5"
      },
      "execution_count": null,
      "outputs": [
        {
          "output_type": "execute_result",
          "data": {
            "text/plain": [
              "(84,)"
            ]
          },
          "metadata": {},
          "execution_count": 104
        }
      ]
    },
    {
      "cell_type": "code",
      "source": [
        "mat = confusion_matrix(y_test, y_pred)\n",
        "mat"
      ],
      "metadata": {
        "colab": {
          "base_uri": "https://localhost:8080/"
        },
        "id": "P_EMzrI854ye",
        "outputId": "f3ba6885-aecb-45a2-8612-963606532877"
      },
      "execution_count": null,
      "outputs": [
        {
          "output_type": "execute_result",
          "data": {
            "text/plain": [
              "array([[28,  0,  0],\n",
              "       [ 0, 28,  0],\n",
              "       [ 0,  0, 28]])"
            ]
          },
          "metadata": {},
          "execution_count": 105
        }
      ]
    },
    {
      "cell_type": "code",
      "source": [
        "plot_confusion_matrix(conf_mat=mat,  show_normed=True, figsize=(7,7))"
      ],
      "metadata": {
        "colab": {
          "base_uri": "https://localhost:8080/",
          "height": 479
        },
        "id": "FC2K6htp5CJ4",
        "outputId": "8c4b406e-6cc9-43cf-dd97-77d891f373f5"
      },
      "execution_count": null,
      "outputs": [
        {
          "output_type": "execute_result",
          "data": {
            "text/plain": [
              "(<Figure size 504x504 with 1 Axes>,\n",
              " <matplotlib.axes._subplots.AxesSubplot at 0x7f8cb28487d0>)"
            ]
          },
          "metadata": {},
          "execution_count": 106
        },
        {
          "output_type": "display_data",
          "data": {
            "text/plain": [
              "<Figure size 504x504 with 1 Axes>"
            ],
            "image/png": "[encoded data removed]"
          },
          "metadata": {
            "needs_background": "light"
          }
        }
      ]
    },
    {
      "cell_type": "code",
      "source": [],
      "metadata": {
        "id": "GyPj7Aaj6Fz3"
      },
      "execution_count": null,
      "outputs": []
    },
    {
      "cell_type": "code",
      "source": [],
      "metadata": {
        "id": "2k61rmUG6F2b"
      },
      "execution_count": null,
      "outputs": []
    },
    {
      "cell_type": "markdown",
      "source": [
        "# 4개중 3개 동작으로 다시 분리 해보기"
      ],
      "metadata": {
        "id": "2_mtK491HV4H"
      }
    },
    {
      "cell_type": "code",
      "execution_count": null,
      "metadata": {
        "id": "cbxPUceVwSDt"
      },
      "outputs": [],
      "source": [
        "df_walking = pd.DataFrame()\n",
        "df_walking = result[result.activity== \"walking\"]\n",
        "\n",
        "df_jogging=pd.DataFrame()\n",
        "df_jogging=result[result.activity==\"jogging\"]\n",
        "\n",
        "df_p_jogging=pd.DataFrame()\n",
        "df_p_jogging=result[result.activity==\"sitting\"]"
      ]
    },
    {
      "cell_type": "code",
      "execution_count": null,
      "metadata": {
        "colab": {
          "base_uri": "https://localhost:8080/",
          "height": 424
        },
        "id": "JzOvh588wSDu",
        "outputId": "5350cfc7-9449-45ed-fa6f-6e388a8cc1dd"
      },
      "outputs": [
        {
          "output_type": "execute_result",
          "data": {
            "text/plain": [
              "      activity        time       gFx       gFy       gFz  gFTotal\n",
              "0      walking    0.008431 -0.119949 -0.858963 -0.561295    1.033\n",
              "1      walking    0.017661 -0.144073 -0.868179 -0.569443    1.048\n",
              "2      walking    0.027832 -0.150024 -0.857712 -0.574188    1.043\n",
              "3      walking    0.037942 -0.154800 -0.847992 -0.573059    1.035\n",
              "4      walking    0.047956 -0.145584 -0.834686 -0.570267    1.021\n",
              "...        ...         ...       ...       ...       ...      ...\n",
              "74300  walking  740.537377  0.061050 -0.796814 -0.756821    1.101\n",
              "74301  walking  740.547404  0.059708 -0.827240 -0.751831    1.119\n",
              "74302  walking  740.557299  0.056305 -0.862640 -0.744583    1.141\n",
              "74303  walking  740.567334  0.044540 -0.891907 -0.734299    1.156\n",
              "74304  walking  740.579200  0.027893 -0.907761 -0.733963    1.168\n",
              "\n",
              "[74305 rows x 6 columns]"
            ],
            "text/html": [
              "\n",
              "  <div id=\"df-c3e8589a-99f1-4588-a8ce-cd7eccc46fdf\">\n",
              "    <div class=\"colab-df-container\">\n",
              "      <div>\n",
              "<style scoped>\n",
              "    .dataframe tbody tr th:only-of-type {\n",
              "        vertical-align: middle;\n",
              "    }\n",
              "\n",
              "    .dataframe tbody tr th {\n",
              "        vertical-align: top;\n",
              "    }\n",
              "\n",
              "    .dataframe thead th {\n",
              "        text-align: right;\n",
              "    }\n",
              "</style>\n",
              "<table border=\"1\" class=\"dataframe\">\n",
              "  <thead>\n",
              "    <tr style=\"text-align: right;\">\n",
              "      <th></th>\n",
              "      <th>activity</th>\n",
              "      <th>time</th>\n",
              "      <th>gFx</th>\n",
              "      <th>gFy</th>\n",
              "      <th>gFz</th>\n",
              "      <th>gFTotal</th>\n",
              "    </tr>\n",
              "  </thead>\n",
              "  <tbody>\n",
              "    <tr>\n",
              "      <th>0</th>\n",
              "      <td>walking</td>\n",
              "      <td>0.008431</td>\n",
              "      <td>-0.119949</td>\n",
              "      <td>-0.858963</td>\n",
              "      <td>-0.561295</td>\n",
              "      <td>1.033</td>\n",
              "    </tr>\n",
              "    <tr>\n",
              "      <th>1</th>\n",
              "      <td>walking</td>\n",
              "      <td>0.017661</td>\n",
              "      <td>-0.144073</td>\n",
              "      <td>-0.868179</td>\n",
              "      <td>-0.569443</td>\n",
              "      <td>1.048</td>\n",
              "    </tr>\n",
              "    <tr>\n",
              "      <th>2</th>\n",
              "      <td>walking</td>\n",
              "      <td>0.027832</td>\n",
              "      <td>-0.150024</td>\n",
              "      <td>-0.857712</td>\n",
              "      <td>-0.574188</td>\n",
              "      <td>1.043</td>\n",
              "    </tr>\n",
              "    <tr>\n",
              "      <th>3</th>\n",
              "      <td>walking</td>\n",
              "      <td>0.037942</td>\n",
              "      <td>-0.154800</td>\n",
              "      <td>-0.847992</td>\n",
              "      <td>-0.573059</td>\n",
              "      <td>1.035</td>\n",
              "    </tr>\n",
              "    <tr>\n",
              "      <th>4</th>\n",
              "      <td>walking</td>\n",
              "      <td>0.047956</td>\n",
              "      <td>-0.145584</td>\n",
              "      <td>-0.834686</td>\n",
              "      <td>-0.570267</td>\n",
              "      <td>1.021</td>\n",
              "    </tr>\n",
              "    <tr>\n",
              "      <th>...</th>\n",
              "      <td>...</td>\n",
              "      <td>...</td>\n",
              "      <td>...</td>\n",
              "      <td>...</td>\n",
              "      <td>...</td>\n",
              "      <td>...</td>\n",
              "    </tr>\n",
              "    <tr>\n",
              "      <th>74300</th>\n",
              "      <td>walking</td>\n",
              "      <td>740.537377</td>\n",
              "      <td>0.061050</td>\n",
              "      <td>-0.796814</td>\n",
              "      <td>-0.756821</td>\n",
              "      <td>1.101</td>\n",
              "    </tr>\n",
              "    <tr>\n",
              "      <th>74301</th>\n",
              "      <td>walking</td>\n",
              "      <td>740.547404</td>\n",
              "      <td>0.059708</td>\n",
              "      <td>-0.827240</td>\n",
              "      <td>-0.751831</td>\n",
              "      <td>1.119</td>\n",
              "    </tr>\n",
              "    <tr>\n",
              "      <th>74302</th>\n",
              "      <td>walking</td>\n",
              "      <td>740.557299</td>\n",
              "      <td>0.056305</td>\n",
              "      <td>-0.862640</td>\n",
              "      <td>-0.744583</td>\n",
              "      <td>1.141</td>\n",
              "    </tr>\n",
              "    <tr>\n",
              "      <th>74303</th>\n",
              "      <td>walking</td>\n",
              "      <td>740.567334</td>\n",
              "      <td>0.044540</td>\n",
              "      <td>-0.891907</td>\n",
              "      <td>-0.734299</td>\n",
              "      <td>1.156</td>\n",
              "    </tr>\n",
              "    <tr>\n",
              "      <th>74304</th>\n",
              "      <td>walking</td>\n",
              "      <td>740.579200</td>\n",
              "      <td>0.027893</td>\n",
              "      <td>-0.907761</td>\n",
              "      <td>-0.733963</td>\n",
              "      <td>1.168</td>\n",
              "    </tr>\n",
              "  </tbody>\n",
              "</table>\n",
              "<p>74305 rows × 6 columns</p>\n",
              "</div>\n",
              "      <button class=\"colab-df-convert\" onclick=\"convertToInteractive('df-c3e8589a-99f1-4588-a8ce-cd7eccc46fdf')\"\n",
              "              title=\"Convert this dataframe to an interactive table.\"\n",
              "              style=\"display:none;\">\n",
              "        \n",
              "  <svg xmlns=\"http://www.w3.org/2000/svg\" height=\"24px\"viewBox=\"0 0 24 24\"\n",
              "       width=\"24px\">\n",
              "    <path d=\"M0 0h24v24H0V0z\" fill=\"none\"/>\n",
              "    <path d=\"M18.56 5.44l.94 2.06.94-2.06 2.06-.94-2.06-.94-.94-2.06-.94 2.06-2.06.94zm-11 1L8.5 8.5l.94-2.06 2.06-.94-2.06-.94L8.5 2.5l-.94 2.06-2.06.94zm10 10l.94 2.06.94-2.06 2.06-.94-2.06-.94-.94-2.06-.94 2.06-2.06.94z\"/><path d=\"M17.41 7.96l-1.37-1.37c-.4-.4-.92-.59-1.43-.59-.52 0-1.04.2-1.43.59L10.3 9.45l-7.72 7.72c-.78.78-.78 2.05 0 2.83L4 21.41c.39.39.9.59 1.41.59.51 0 1.02-.2 1.41-.59l7.78-7.78 2.81-2.81c.8-.78.8-2.07 0-2.86zM5.41 20L4 18.59l7.72-7.72 1.47 1.35L5.41 20z\"/>\n",
              "  </svg>\n",
              "      </button>\n",
              "      \n",
              "  <style>\n",
              "    .colab-df-container {\n",
              "      display:flex;\n",
              "      flex-wrap:wrap;\n",
              "      gap: 12px;\n",
              "    }\n",
              "\n",
              "    .colab-df-convert {\n",
              "      background-color: #E8F0FE;\n",
              "      border: none;\n",
              "      border-radius: 50%;\n",
              "      cursor: pointer;\n",
              "      display: none;\n",
              "      fill: #1967D2;\n",
              "      height: 32px;\n",
              "      padding: 0 0 0 0;\n",
              "      width: 32px;\n",
              "    }\n",
              "\n",
              "    .colab-df-convert:hover {\n",
              "      background-color: #E2EBFA;\n",
              "      box-shadow: 0px 1px 2px rgba(60, 64, 67, 0.3), 0px 1px 3px 1px rgba(60, 64, 67, 0.15);\n",
              "      fill: #174EA6;\n",
              "    }\n",
              "\n",
              "    [theme=dark] .colab-df-convert {\n",
              "      background-color: #3B4455;\n",
              "      fill: #D2E3FC;\n",
              "    }\n",
              "\n",
              "    [theme=dark] .colab-df-convert:hover {\n",
              "      background-color: #434B5C;\n",
              "      box-shadow: 0px 1px 3px 1px rgba(0, 0, 0, 0.15);\n",
              "      filter: drop-shadow(0px 1px 2px rgba(0, 0, 0, 0.3));\n",
              "      fill: #FFFFFF;\n",
              "    }\n",
              "  </style>\n",
              "\n",
              "      <script>\n",
              "        const buttonEl =\n",
              "          document.querySelector('#df-c3e8589a-99f1-4588-a8ce-cd7eccc46fdf button.colab-df-convert');\n",
              "        buttonEl.style.display =\n",
              "          google.colab.kernel.accessAllowed ? 'block' : 'none';\n",
              "\n",
              "        async function convertToInteractive(key) {\n",
              "          const element = document.querySelector('#df-c3e8589a-99f1-4588-a8ce-cd7eccc46fdf');\n",
              "          const dataTable =\n",
              "            await google.colab.kernel.invokeFunction('convertToInteractive',\n",
              "                                                     [key], {});\n",
              "          if (!dataTable) return;\n",
              "\n",
              "          const docLinkHtml = 'Like what you see? Visit the ' +\n",
              "            '<a target=\"_blank\" href=https://colab.research.google.com/notebooks/data_table.ipynb>data table notebook</a>'\n",
              "            + ' to learn more about interactive tables.';\n",
              "          element.innerHTML = '';\n",
              "          dataTable['output_type'] = 'display_data';\n",
              "          await google.colab.output.renderOutput(dataTable, element);\n",
              "          const docLink = document.createElement('div');\n",
              "          docLink.innerHTML = docLinkHtml;\n",
              "          element.appendChild(docLink);\n",
              "        }\n",
              "      </script>\n",
              "    </div>\n",
              "  </div>\n",
              "  "
            ]
          },
          "metadata": {},
          "execution_count": 16
        }
      ],
      "source": [
        "df_walking"
      ]
    },
    {
      "cell_type": "code",
      "source": [],
      "metadata": {
        "id": "UTcJPy0kwmuJ"
      },
      "execution_count": null,
      "outputs": []
    }
  ],
  "metadata": {
    "kernelspec": {
      "display_name": "Python 3 (ipykernel)",
      "language": "python",
      "name": "python3"
    },
    "language_info": {
      "codemirror_mode": {
        "name": "ipython",
        "version": 3
      },
      "file_extension": ".py",
      "mimetype": "text/x-python",
      "name": "python",
      "nbconvert_exporter": "python",
      "pygments_lexer": "ipython3",
      "version": "3.9.7"
    },
    "colab": {
      "provenance": []
    },
    "accelerator": "GPU",
    "gpuClass": "standard"
  },
  "nbformat": 4,
  "nbformat_minor": 0
}